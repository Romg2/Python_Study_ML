{
 "cells": [
  {
   "cell_type": "markdown",
   "metadata": {},
   "source": [
    "**기본 세팅**"
   ]
  },
  {
   "cell_type": "code",
   "execution_count": 1,
   "metadata": {},
   "outputs": [],
   "source": [
    "import numpy as np\n",
    "import pandas as pd\n",
    "\n",
    "import matplotlib as mpl\n",
    "import matplotlib.pyplot as plt\n",
    "import seaborn as sns\n",
    "\n",
    "import warnings"
   ]
  },
  {
   "cell_type": "code",
   "execution_count": 2,
   "metadata": {},
   "outputs": [],
   "source": [
    "%matplotlib inline\n",
    "%config InlineBackend.figure_format = 'retina'\n",
    "\n",
    "mpl.rc('font', family='NanumGothic') # 폰트 설정\n",
    "mpl.rc('axes', unicode_minus=False) # 유니코드에서 음수 부호 설정\n",
    "\n",
    "# 차트 스타일 설정\n",
    "sns.set(font=\"NanumGothic\", rc={\"axes.unicode_minus\":False}, style='darkgrid')\n",
    "plt.rc(\"figure\", figsize=(10,8))\n",
    "\n",
    "warnings.filterwarnings(\"ignore\")"
   ]
  },
  {
   "cell_type": "markdown",
   "metadata": {},
   "source": [
    "# 1. 텍스트 분석 이해"
   ]
  },
  {
   "cell_type": "markdown",
   "metadata": {},
   "source": [
    "## 1.1 텍스트 분석 주요 영역"
   ]
  },
  {
   "cell_type": "markdown",
   "metadata": {},
   "source": [
    "### 1.1.1 텍스트 분류(Text Classfication)"
   ]
  },
  {
   "cell_type": "markdown",
   "metadata": {},
   "source": [
    "문서가 특정 분류 또는 카테고리에 속하는 것을 예측하는 기법\n",
    "\n",
    "예를 들어 특정 신문 기사 내용이 연애/정치/사회 중 어떤 카테고리에 속하는지 자동으로 분류한다.\n",
    "\n",
    "스팸 메일 검출 같은 프로그램 등이 해당되며 지도학습을 적용한다."
   ]
  },
  {
   "cell_type": "markdown",
   "metadata": {},
   "source": [
    "### 1.1.2 감성 분석(Sentiment Analysis)"
   ]
  },
  {
   "cell_type": "markdown",
   "metadata": {},
   "source": [
    "텍스트에서 나타나는 감정/판단/믿음/의견/기분 등의 주관적인 요소를 분석하는 기법\n",
    "\n",
    "SNS에서 감정 분석, 영화나 제품에 대한 긍정 또는 리뷰, 여론조사 의견 분석등에 사용한다.\n",
    "\n",
    "지도학습, 비지도학습 모두 가능하다."
   ]
  },
  {
   "cell_type": "markdown",
   "metadata": {},
   "source": [
    "### 1.1.3 텍스트 요약(Summarization)"
   ]
  },
  {
   "cell_type": "markdown",
   "metadata": {},
   "source": [
    "텍스트 내에서 중요한 주제나 중심 사상을 추출하는 기법\n",
    "\n",
    "대표적으로 토픽 모델링(Topic Modeling)이 있다."
   ]
  },
  {
   "cell_type": "markdown",
   "metadata": {},
   "source": [
    "### 1.1.4 텍스트 군집화와 유사도 측정"
   ]
  },
  {
   "cell_type": "markdown",
   "metadata": {},
   "source": [
    "비슷한 유형의 문서에 대해 군집화를 수행하는 기법\n",
    "\n",
    "텍스트 분류를 비지도학습으로 수행하는 방법의 일환으로 사용될 수 있다.\n",
    "\n",
    "유사도 측정 역시 문서들간 유사도를 측정해 비슷한 문서끼리 모을 수 있는 방법이다."
   ]
  },
  {
   "cell_type": "markdown",
   "metadata": {},
   "source": [
    "## 1.2 텍스트 분석 수행 과정"
   ]
  },
  {
   "cell_type": "markdown",
   "metadata": {},
   "source": [
    "### 1.2.1 텍스트 사전 준비작업(텍스트 전처리)"
   ]
  },
  {
   "cell_type": "markdown",
   "metadata": {},
   "source": [
    "텍스트를 피처로 만들기 전에 미리 클렌징, 대/소문자 변경, 특수문자 삭제 등의 클렌징 작업, \n",
    "\n",
    "단어(Word) 등의 토큰화 작업, 의미 없는 단어 제거 작업, 어근 추출 등의 텍스트 정규화 작업을 수행한다."
   ]
  },
  {
   "cell_type": "markdown",
   "metadata": {},
   "source": [
    "### 1.2.2 피처 벡터화/추출"
   ]
  },
  {
   "cell_type": "markdown",
   "metadata": {},
   "source": [
    "사전 준비 작업으로 가공된 텍스트에서 피처를 추출하고 벡터 값을 할당한다.\n",
    "\n",
    "대표적인 방법으로 BOW와 Word2Vec이 있으며 BOW는 Count 기반과 TF-IDF 기반 벡터화가 있다."
   ]
  },
  {
   "cell_type": "markdown",
   "metadata": {},
   "source": [
    "### 1.2.3 ML 학습/예측/평가"
   ]
  },
  {
   "cell_type": "markdown",
   "metadata": {},
   "source": [
    "피처 벡터화된 데이터 셋에 ML 모델을 적용해 학습/예측/평가를 수행한다."
   ]
  },
  {
   "cell_type": "markdown",
   "metadata": {},
   "source": [
    "# 2. 텍스트 전처리"
   ]
  },
  {
   "cell_type": "markdown",
   "metadata": {},
   "source": [
    "## 2.1 클렌징"
   ]
  },
  {
   "cell_type": "markdown",
   "metadata": {},
   "source": [
    "불필요한 문자, 기호 등을 사전에 제거하는 작업이다.\n",
    "\n",
    "예를 들어 HTML, XML 태그나 특정 기호 등을 사전에 제거한다."
   ]
  },
  {
   "cell_type": "markdown",
   "metadata": {},
   "source": [
    "## 2.2 텍스트 토큰화"
   ]
  },
  {
   "cell_type": "markdown",
   "metadata": {},
   "source": [
    "### 2.2.1 문장 토큰화"
   ]
  },
  {
   "cell_type": "code",
   "execution_count": 6,
   "metadata": {},
   "outputs": [
    {
     "name": "stdout",
     "output_type": "stream",
     "text": [
      "<class 'list'> 3\n",
      "['The Matrix is everywhere its all around us, here even in this room.', 'You can see it out your window or on your television.', 'You feel it when you go to work, or go to church or pay your taxes.']\n"
     ]
    }
   ],
   "source": [
    "from nltk import sent_tokenize\n",
    "import nltk\n",
    "\n",
    "# 마침표, 개행문자(\\n) 등의 데이터 셋: 최초 한번만 다운\n",
    "# nltk.download('punkt')\n",
    "\n",
    "text_sample = 'The Matrix is everywhere its all around us, here even in this room. \\\n",
    "               You can see it out your window or on your television. \\\n",
    "               You feel it when you go to work, or go to church or pay your taxes.'\n",
    "\n",
    "sentences = sent_tokenize(text = text_sample)\n",
    "\n",
    "print(type(sentences),len(sentences))\n",
    "print(sentences)"
   ]
  },
  {
   "cell_type": "markdown",
   "metadata": {},
   "source": [
    "- `nltk`의 `sent_tokenize()`를 이용해 문장 단위로 토큰화가 가능하다."
   ]
  },
  {
   "cell_type": "markdown",
   "metadata": {},
   "source": [
    "### 2.2.2 단어 토큰화"
   ]
  },
  {
   "cell_type": "code",
   "execution_count": 4,
   "metadata": {},
   "outputs": [
    {
     "name": "stdout",
     "output_type": "stream",
     "text": [
      "<class 'list'> 15\n",
      "['The', 'Matrix', 'is', 'everywhere', 'its', 'all', 'around', 'us', ',', 'here', 'even', 'in', 'this', 'room', '.']\n"
     ]
    }
   ],
   "source": [
    "from nltk import word_tokenize\n",
    "\n",
    "sentence = \"The Matrix is everywhere its all around us, here even in this room.\"\n",
    "\n",
    "words = word_tokenize(sentence)\n",
    "\n",
    "print(type(words), len(words))\n",
    "print(words)"
   ]
  },
  {
   "cell_type": "markdown",
   "metadata": {},
   "source": [
    "- `nltk`의 `word_tokenize()`를 이용해 단어 단위로 토큰화가 가능하다."
   ]
  },
  {
   "cell_type": "code",
   "execution_count": 7,
   "metadata": {},
   "outputs": [
    {
     "name": "stdout",
     "output_type": "stream",
     "text": [
      "<class 'list'> 3\n",
      "[['The', 'Matrix', 'is', 'everywhere', 'its', 'all', 'around', 'us', ',', 'here', 'even', 'in', 'this', 'room', '.'], ['You', 'can', 'see', 'it', 'out', 'your', 'window', 'or', 'on', 'your', 'television', '.'], ['You', 'feel', 'it', 'when', 'you', 'go', 'to', 'work', ',', 'or', 'go', 'to', 'church', 'or', 'pay', 'your', 'taxes', '.']]\n"
     ]
    }
   ],
   "source": [
    "from nltk import word_tokenize, sent_tokenize\n",
    "\n",
    "# 문장별로 단어 토큰화\n",
    "def tokenize_text(text):\n",
    "    \n",
    "    # 문장 토큰화\n",
    "    sentences = sent_tokenize(text)\n",
    "    \n",
    "    # 문장별 단어 토큰화\n",
    "    word_tokens = [word_tokenize(sentence) for sentence in sentences]\n",
    "    \n",
    "    return word_tokens\n",
    "\n",
    "word_tokens = tokenize_text(text_sample)\n",
    "\n",
    "print(type(word_tokens),len(word_tokens))\n",
    "print(word_tokens)"
   ]
  },
  {
   "cell_type": "markdown",
   "metadata": {},
   "source": [
    "- 여러 문장을 문장별로 토큰화 하였다.\n",
    "\n",
    "\n",
    "- 3개의 리스트를 가진 리스트가 반환되었고 각 개별 리스트는 문장별 단어 토큰화 요소를 가진다."
   ]
  },
  {
   "cell_type": "markdown",
   "metadata": {},
   "source": [
    "## 2.3 스톱 워드 제거"
   ]
  },
  {
   "cell_type": "markdown",
   "metadata": {},
   "source": [
    "스톱 워드(Stop Word)는 분석에서 큰 의미가 없는 단어를 의미한다.\n",
    "\n",
    "영어에선 is, the, a, will 등 필수 문법 요소이지만 문맥적으로 큰 의미가 없는 단어 등이 있다."
   ]
  },
  {
   "cell_type": "code",
   "execution_count": 10,
   "metadata": {},
   "outputs": [],
   "source": [
    "# 다양한 언어의 스톱 워드 목록 다운\n",
    "# nltk.download('stopwords')"
   ]
  },
  {
   "cell_type": "code",
   "execution_count": 12,
   "metadata": {},
   "outputs": [
    {
     "name": "stdout",
     "output_type": "stream",
     "text": [
      "영어 stop words 갯수: 179\n",
      "['i', 'me', 'my', 'myself', 'we', 'our', 'ours', 'ourselves', 'you', \"you're\", \"you've\", \"you'll\", \"you'd\", 'your', 'yours', 'yourself', 'yourselves', 'he', 'him', 'his']\n"
     ]
    }
   ],
   "source": [
    "# 영어의 stopwords\n",
    "stopwords_eng = nltk.corpus.stopwords.words('english')\n",
    "\n",
    "print('영어 stop words 갯수:',len(stopwords_eng))\n",
    "print(stopwords_eng[:20])"
   ]
  },
  {
   "cell_type": "markdown",
   "metadata": {},
   "source": [
    "- 영어는 179개의 stopword가 존재한다.\n",
    "\n",
    "\n",
    "- 이를 이용해서 앞서 문장별 단어 토큰화에 대해 stopword 제거를 수행해보자."
   ]
  },
  {
   "cell_type": "code",
   "execution_count": 14,
   "metadata": {},
   "outputs": [
    {
     "name": "stdout",
     "output_type": "stream",
     "text": [
      "[['matrix', 'everywhere', 'around', 'us', ',', 'even', 'room', '.'], ['see', 'window', 'television', '.'], ['feel', 'go', 'work', ',', 'go', 'church', 'pay', 'taxes', '.']]\n"
     ]
    }
   ],
   "source": [
    "# 영어 stopword\n",
    "stopwords = nltk.corpus.stopwords.words('english')\n",
    "\n",
    "# 문장별 단어 토큰화 + stopword 제거\n",
    "all_tokens = []\n",
    "\n",
    "for sentence in word_tokens:\n",
    "    filtered_words=[]\n",
    "    \n",
    "    # 문장 토큰의 각 단어 토큰\n",
    "    for word in sentence:\n",
    "        # 소문자 변환\n",
    "        word = word.lower()\n",
    "        # stopword 미포함\n",
    "        if word not in stopwords:\n",
    "            filtered_words.append(word)\n",
    "            \n",
    "    all_tokens.append(filtered_words)\n",
    "    \n",
    "print(all_tokens)"
   ]
  },
  {
   "cell_type": "markdown",
   "metadata": {},
   "source": [
    "- the, is 등의 stopword가 제거되었다."
   ]
  },
  {
   "cell_type": "markdown",
   "metadata": {},
   "source": [
    "## 2.4 어근추출"
   ]
  },
  {
   "cell_type": "markdown",
   "metadata": {},
   "source": [
    "어근 추출(Stemming)과 원형 복원(Lemmatizaiton)은 단어의 원형을 찾는 기법이다.\n",
    "\n",
    "Lemmatizaiton이 Stemming보다 정교하며 의미론적인 기반에서 원형을 찾는다."
   ]
  },
  {
   "cell_type": "markdown",
   "metadata": {},
   "source": [
    "### 2.4.1 Stemming"
   ]
  },
  {
   "cell_type": "markdown",
   "metadata": {},
   "source": [
    "`PorterStemmer`, `LancasterStemmer`, `SnowballStemmer` 등 다양한 Stemmer가 있다."
   ]
  },
  {
   "cell_type": "code",
   "execution_count": 19,
   "metadata": {},
   "outputs": [
    {
     "name": "stdout",
     "output_type": "stream",
     "text": [
      "work work work\n",
      "amus amus amus\n",
      "happy happiest\n",
      "fant fanciest\n"
     ]
    }
   ],
   "source": [
    "from nltk.stem import LancasterStemmer\n",
    "stemmer = LancasterStemmer()\n",
    "\n",
    "print(stemmer.stem('working'),stemmer.stem('works'),stemmer.stem('worked'))\n",
    "print(stemmer.stem('amusing'),stemmer.stem('amuses'),stemmer.stem('amused'))\n",
    "print(stemmer.stem('happier'),stemmer.stem('happiest'))\n",
    "print(stemmer.stem('fancier'),stemmer.stem('fanciest'))"
   ]
  },
  {
   "cell_type": "markdown",
   "metadata": {},
   "source": [
    "- work의 경우 진행형, 3인칭 단수, 과거형을 모두 기본 단어로 되돌렸다.\n",
    "\n",
    "\n",
    "- amuse는 기본 단어에 ing, s, ed등이 붙는게 아닌 amus에 붙으므로 amus로 되돌렸다.\n",
    "\n",
    "\n",
    "- happy, fancy의 경우도 제대로 원형을 찾지 못한다."
   ]
  },
  {
   "cell_type": "markdown",
   "metadata": {},
   "source": [
    "### 2.4.2 Lemmatization"
   ]
  },
  {
   "cell_type": "code",
   "execution_count": 20,
   "metadata": {},
   "outputs": [
    {
     "name": "stderr",
     "output_type": "stream",
     "text": [
      "[nltk_data] Downloading package wordnet to\n",
      "[nltk_data]     C:\\Users\\ekzm3\\AppData\\Roaming\\nltk_data...\n",
      "[nltk_data]   Unzipping corpora\\wordnet.zip.\n"
     ]
    },
    {
     "name": "stdout",
     "output_type": "stream",
     "text": [
      "amuse amuse amuse\n",
      "happy happy\n",
      "fancy fancy\n"
     ]
    }
   ],
   "source": [
    "from nltk.stem import WordNetLemmatizer\n",
    "\n",
    "# nltk.download('wordnet')\n",
    "\n",
    "lemma = WordNetLemmatizer()\n",
    "\n",
    "# 동사: v, 형용사: a\n",
    "print(lemma.lemmatize('amusing','v'),lemma.lemmatize('amuses','v'),lemma.lemmatize('amused','v'))\n",
    "print(lemma.lemmatize('happier','a'),lemma.lemmatize('happiest','a'))\n",
    "print(lemma.lemmatize('fancier','a'),lemma.lemmatize('fanciest','a'))"
   ]
  },
  {
   "cell_type": "markdown",
   "metadata": {},
   "source": [
    "- 앞서 Stemming보다 정확하게 원형 단어를 추출하였다.\n",
    "\n",
    "\n",
    "- Lemmatization에선 정확한 원형 단어 추출을 위해 품사를 기입하여야 한다.\n",
    "\n",
    "\n",
    "- 사전 기반으로 단어를 처리하므로 오류는 적으나 새로운 단어는 처리할 수 없다."
   ]
  },
  {
   "cell_type": "markdown",
   "metadata": {},
   "source": [
    "# 3. 피처 벡터화"
   ]
  },
  {
   "cell_type": "markdown",
   "metadata": {},
   "source": [
    "## 3.1 BOW(Bag of Words)"
   ]
  },
  {
   "cell_type": "markdown",
   "metadata": {},
   "source": [
    "BOW 모델은 모든 단어에 대해 빈도 값을 부여해서 피처 값을 추출하는 모델이다.\n",
    "\n",
    "쉽고 빠른 구축이 가능하지만 단어의 순서를 고려하지 않으므로 문맥적인 의미 반영이 부족하다.\n",
    "\n",
    "또한 희소 행렬(대부분의 값이 0)의 문제가 있다."
   ]
  },
  {
   "cell_type": "markdown",
   "metadata": {},
   "source": [
    "### 3.1.1 Count 벡터화"
   ]
  },
  {
   "cell_type": "markdown",
   "metadata": {},
   "source": [
    "단순하게 모든 단어의 빈도로 피처 벡터화를 진행한다.\n",
    "\n",
    "`CountVectorizer()`를 이용해 행은 각 문장(문서)은 인덱스, 열은 단어로 피처 벡터화 가능하다."
   ]
  },
  {
   "cell_type": "markdown",
   "metadata": {},
   "source": [
    "`CountVectorizer()`는 다음과 같이 작업을 수행한다.\n",
    "\n",
    "1. 소문자 일괄 변환\n",
    "\n",
    "\n",
    "2. 각 단어를 토큰화\n",
    "\n",
    "\n",
    "3. 텍스트 전처리(스톱 워드 제거)\n",
    "\n",
    "\n",
    "4. 피처 벡터화"
   ]
  },
  {
   "cell_type": "markdown",
   "metadata": {},
   "source": [
    "Stemmer, Lemmatize는 `tokenizer` 파라미터 등으로 수행한다.\n",
    "\n",
    "파라미터가 많아서 여기선 따로 적지 않는다. 교재를 참고하자."
   ]
  },
  {
   "cell_type": "code",
   "execution_count": 38,
   "metadata": {},
   "outputs": [
    {
     "name": "stdout",
     "output_type": "stream",
     "text": [
      "[[0 1 0 1]\n",
      " [1 0 1 1]]\n",
      "{'love': 1, 'you': 3, 'because': 0, 'of': 2}\n"
     ]
    }
   ],
   "source": [
    "from sklearn.feature_extraction.text import CountVectorizer\n",
    "\n",
    "sen1 = [\"I love you.\", \"because of you.\"]\n",
    "\n",
    "vectorizer = CountVectorizer()\n",
    "\n",
    "print(vectorizer.fit_transform(sen1).toarray())\n",
    "print(vectorizer.vocabulary_)"
   ]
  },
  {
   "cell_type": "markdown",
   "metadata": {},
   "source": [
    "### 3.1.2 TF-IDF 벡터화"
   ]
  },
  {
   "cell_type": "markdown",
   "metadata": {},
   "source": [
    "Count 벡터화는 일반적으로 자주 사용되는 단어까지 중요하게 인식하는 문제가 발생한다.\n",
    "\n",
    "TF-IDF(Term Frequenct Inverse Document Frequency)는 Count 벡터화의 문제를 보완한 방법이다.\n",
    "\n",
    "각 문서별로 자주 나타나는 단어에 높은 가중치를 주되 모든 문서에서 자주 나타나는 단어에는 패널티를 부여한다."
   ]
  },
  {
   "cell_type": "code",
   "execution_count": 39,
   "metadata": {},
   "outputs": [
    {
     "name": "stdout",
     "output_type": "stream",
     "text": [
      "[[0.62276601 0.         0.         0.62276601 0.         0.\n",
      "  0.4736296 ]\n",
      " [0.         0.         0.79596054 0.         0.         0.\n",
      "  0.60534851]\n",
      " [0.         0.57735027 0.         0.         0.57735027 0.57735027\n",
      "  0.        ]]\n",
      "{'because': 0, 'of': 3, 'you': 6, 'like': 2, 'what': 5, 'should': 4, 'do': 1}\n"
     ]
    }
   ],
   "source": [
    "from sklearn.feature_extraction.text import TfidfVectorizer\n",
    "\n",
    "corpus = ['because of you', 'I like you', 'what should I do ']\n",
    "\n",
    "tfidfv = TfidfVectorizer().fit(corpus)\n",
    "\n",
    "print(tfidfv.transform(corpus).toarray())\n",
    "print(tfidfv.vocabulary_)"
   ]
  },
  {
   "cell_type": "markdown",
   "metadata": {},
   "source": [
    "## 3.2 희소 행렬"
   ]
  },
  {
   "cell_type": "markdown",
   "metadata": {},
   "source": [
    "모든 문서의 단어를 피처로 벡터화하면 컬럼이 많아질 수 밖에 없다.\n",
    "\n",
    "하지만 대규모의 행렬이 생성되어도 단어의 종류에 비해 단어의 수는 제한적일 것이다.\n",
    "\n",
    "그렇다면 행렬 원소의 대부분이 0으로 나타날 것이고 이러한 행렬을 희소 행렬이라 한다.\n",
    "\n",
    "BOW 형태를 가진 언어 모델의 피처 벡터화는 대부분 희소 행렬이다.\n",
    "\n",
    "희소 행렬은 불필요한 0값이 너무 많아 메모리 공간이 많이 필요하며 연산 시간도 오래 걸리게 된다.\n",
    "\n",
    "이러한 희소 행렬이 적은 메모리 공간을 차지하게 변환하는 2가지 방법을 확인해보자."
   ]
  },
  {
   "cell_type": "markdown",
   "metadata": {},
   "source": [
    "### 3.2.1 COO 형식"
   ]
  },
  {
   "cell_type": "markdown",
   "metadata": {},
   "source": [
    "COO(Coordinate: 좌표) 형식은 0이 아닌 데이터만 별도의 배열에 저장하고, \n",
    "\n",
    "해당 데이터가 가리키는 행과 열의 위치를 별도의 배열에 저장한다."
   ]
  },
  {
   "cell_type": "code",
   "execution_count": 43,
   "metadata": {},
   "outputs": [
    {
     "data": {
      "text/plain": [
       "<2x3 sparse matrix of type '<class 'numpy.int32'>'\n",
       "\twith 3 stored elements in COOrdinate format>"
      ]
     },
     "execution_count": 43,
     "metadata": {},
     "output_type": "execute_result"
    }
   ],
   "source": [
    "from scipy import sparse\n",
    "\n",
    "dense = np.array( [ [ 3, 0, 1 ], \n",
    "                    [0, 2, 0 ] ] )\n",
    "\n",
    "# 0이 아닌 데이터 배열\n",
    "data = np.array([3,1,2])\n",
    "\n",
    "# 데이터의 위치 배열\n",
    "row_pos = np.array([0,0,1])\n",
    "col_pos = np.array([0,2,1])\n",
    "\n",
    "# COO 형식 희소 행렬 생성\n",
    "sparse_coo = sparse.coo_matrix( ( data, (row_pos,col_pos) ) )\n",
    "sparse_coo"
   ]
  },
  {
   "cell_type": "markdown",
   "metadata": {},
   "source": [
    "- `sparse.coo_matrix()`를 이용하여 COO 형식의 희소 행렬 객체를 생성 가능하다."
   ]
  },
  {
   "cell_type": "code",
   "execution_count": 44,
   "metadata": {},
   "outputs": [
    {
     "data": {
      "text/plain": [
       "array([[3, 0, 1],\n",
       "       [0, 2, 0]])"
      ]
     },
     "execution_count": 44,
     "metadata": {},
     "output_type": "execute_result"
    }
   ],
   "source": [
    "sparse_coo.toarray()"
   ]
  },
  {
   "cell_type": "markdown",
   "metadata": {},
   "source": [
    "- `toarray()`를 이용해 다시 원래 형태의 행렬로 출력가능하다."
   ]
  },
  {
   "cell_type": "markdown",
   "metadata": {},
   "source": [
    "### 3.2.1 CSR 형식"
   ]
  },
  {
   "cell_type": "markdown",
   "metadata": {},
   "source": [
    "COO 형식은 행과 열의 위치를 나타내기 위해 반복적으로 위치 데이터를 사용한다.\n",
    "\n",
    "이를 해결한 방식이 CSR(Compressed Sparse Row) 형식이다.\n",
    "\n",
    "간단하게 설명하면 COO에서 행 위치 배열을 다시 위치 시작 배열로 생성한다."
   ]
  },
  {
   "cell_type": "code",
   "execution_count": 46,
   "metadata": {},
   "outputs": [
    {
     "name": "stdout",
     "output_type": "stream",
     "text": [
      "COO 변환된 데이터가 제대로 되었는지 다시 Dense로 출력 확인\n",
      "[[0 0 1 0 0 5]\n",
      " [1 4 0 3 2 5]\n",
      " [0 6 0 3 0 0]\n",
      " [2 0 0 0 0 0]\n",
      " [0 0 0 7 0 8]\n",
      " [1 0 0 0 0 0]]\n",
      "CSR 변환된 데이터가 제대로 되었는지 다시 Dense로 출력 확인\n",
      "[[0 0 1 0 0 5]\n",
      " [1 4 0 3 2 5]\n",
      " [0 6 0 3 0 0]\n",
      " [2 0 0 0 0 0]\n",
      " [0 0 0 7 0 8]\n",
      " [1 0 0 0 0 0]]\n"
     ]
    }
   ],
   "source": [
    "from scipy import sparse\n",
    "\n",
    "dense2 = np.array([ [0,0,1,0,0,5],\n",
    "                    [1,4,0,3,2,5],\n",
    "                    [0,6,0,3,0,0],\n",
    "                    [2,0,0,0,0,0],\n",
    "                    [0,0,0,7,0,8],\n",
    "                    [1,0,0,0,0,0] ])\n",
    "\n",
    "# 0이 아닌 데이터 배열\n",
    "data2 = np.array([1, 5, 1, 4, 3, 2, 5, 6, 3, 2, 7, 8, 1])\n",
    "\n",
    "# 데이터의 위치 배열(행,열)\n",
    "row_pos = np.array([0, 0, 1, 1, 1, 1, 1, 2, 2, 3, 4, 4, 5])\n",
    "col_pos = np.array([2, 5, 0, 1, 3, 4, 5, 1, 3, 0, 3, 5, 0])\n",
    "\n",
    "# COO 형식 희소 행렬 생성\n",
    "sparse_coo = sparse.coo_matrix( ( data2, (row_pos,col_pos) ) )\n",
    "\n",
    "# 행 위치 배열의 고유한 값의 시작 위치 인덱스를 배열로 생성\n",
    "row_pos_ind = np.array([0, 2, 7, 9, 10, 12, 13])\n",
    "\n",
    "# CSR 형식 희소 행렬 생성\n",
    "sparse_csr = sparse.csr_matrix( ( data2, col_pos, row_pos_ind ) )\n",
    "\n",
    "print('COO 변환된 데이터가 제대로 되었는지 다시 Dense로 출력 확인')\n",
    "print(sparse_coo.toarray())\n",
    "\n",
    "print('CSR 변환된 데이터가 제대로 되었는지 다시 Dense로 출력 확인')\n",
    "print(sparse_csr.toarray())"
   ]
  },
  {
   "cell_type": "markdown",
   "metadata": {},
   "source": [
    "- COO에서 사용한 행 위치 배열에서 각 고유한 값의 시작 위치로 새로운 배열을 생성한다.\n",
    "\n",
    "\n",
    "- 마지막에는 데이터의 총 항목 개수를 기입한다(여기선 13개).\n",
    "\n",
    "\n",
    "- 두 방식 모두 원래 모습으로 행렬이 잘 출력된다."
   ]
  },
  {
   "cell_type": "code",
   "execution_count": 47,
   "metadata": {},
   "outputs": [],
   "source": [
    "dense3 = np.array([ [0,0,1,0,0,5],\n",
    "                    [1,4,0,3,2,5],\n",
    "                    [0,6,0,3,0,0],\n",
    "                    [2,0,0,0,0,0],\n",
    "                    [0,0,0,7,0,8],\n",
    "                    [1,0,0,0,0,0] ])\n",
    "\n",
    "\n",
    "coo = sparse.coo_matrix(dense3)\n",
    "csr = sparse.csr_matrix(dense3)"
   ]
  },
  {
   "cell_type": "markdown",
   "metadata": {},
   "source": [
    "- 실제 사용 시에는 위와 같이 원래 밀집 행렬을 생성 파라미터로 입력한다."
   ]
  }
 ],
 "metadata": {
  "kernelspec": {
   "display_name": "Python 3",
   "language": "python",
   "name": "python3"
  },
  "language_info": {
   "codemirror_mode": {
    "name": "ipython",
    "version": 3
   },
   "file_extension": ".py",
   "mimetype": "text/x-python",
   "name": "python",
   "nbconvert_exporter": "python",
   "pygments_lexer": "ipython3",
   "version": "3.8.5"
  },
  "toc": {
   "base_numbering": 1,
   "nav_menu": {},
   "number_sections": false,
   "sideBar": true,
   "skip_h1_title": false,
   "title_cell": "Table of Contents",
   "title_sidebar": "Contents",
   "toc_cell": false,
   "toc_position": {
    "height": "calc(100% - 180px)",
    "left": "10px",
    "top": "150px",
    "width": "310.417px"
   },
   "toc_section_display": true,
   "toc_window_display": true
  }
 },
 "nbformat": 4,
 "nbformat_minor": 4
}
