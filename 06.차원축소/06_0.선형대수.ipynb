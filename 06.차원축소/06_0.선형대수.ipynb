{
 "cells": [
  {
   "cell_type": "markdown",
   "metadata": {},
   "source": [
    "# 1. 선형대수"
   ]
  },
  {
   "cell_type": "markdown",
   "metadata": {},
   "source": [
    "머신러닝에 있어서 중요한 개념 중 하나인 선형대수에 대해서 일부만 아주 간략하게 정리해 본다."
   ]
  },
  {
   "cell_type": "markdown",
   "metadata": {},
   "source": [
    "## 1.1 고유값/고유벡터"
   ]
  },
  {
   "cell_type": "markdown",
   "metadata": {},
   "source": [
    "n x n 정방행렬 $A$와 스칼라 $\\lambda$에 대해 아래와 같은 식이 성립할 때,"
   ]
  },
  {
   "cell_type": "markdown",
   "metadata": {},
   "source": [
    "$$Ax = \\lambda x \\tag{1}$$"
   ]
  },
  {
   "cell_type": "markdown",
   "metadata": {},
   "source": [
    "$x$와 $\\lambda$는 다음과 같이 정의할 수 있다."
   ]
  },
  {
   "cell_type": "markdown",
   "metadata": {},
   "source": [
    "- $x$: 고유벡터라고 하며 $A$라는 선형변환을 할 때 크기만 바뀌고 방향이 바뀌지 않는 벡터(최대 n개 존재)\n",
    "\n",
    "\n",
    "- $\\lambda$: 고유값이라고 하며, 고유벡터에 대응하는 크기"
   ]
  },
  {
   "cell_type": "markdown",
   "metadata": {},
   "source": [
    "(1)식은 다음과 같이 표현할 수 있다."
   ]
  },
  {
   "cell_type": "markdown",
   "metadata": {},
   "source": [
    "$$(A-\\lambda I)x =  0_{n \\ \\text{x} \\ n} \\tag{2}$$"
   ]
  },
  {
   "cell_type": "markdown",
   "metadata": {},
   "source": [
    "고유벡터는 0이 아닌 벡터여야하므로 (2)식에서 $(A-\\lambda I)$의 역행렬이 존재해선 안된다.\n",
    "\n",
    "즉, $\\det(A-\\lambda I) = 0$이 성립하여야 한다.\n",
    "\n",
    "이는 행렬 $\\det(A-\\lambda I)$가 Singular Matrix 여야한다는 뜻이다."
   ]
  },
  {
   "cell_type": "markdown",
   "metadata": {},
   "source": [
    "## 1.2 고유값 분해"
   ]
  },
  {
   "cell_type": "markdown",
   "metadata": {},
   "source": [
    "고유벡터 $e_{1}$, ... ,$e_{n}$들의 행렬 $E$를 다음과 같이 정의하자."
   ]
  },
  {
   "cell_type": "markdown",
   "metadata": {},
   "source": [
    "$$\n",
    "E = \n",
    "\\begin{bmatrix}\n",
    "e_{1} & \\cdots & e_{n}\n",
    "\\end{bmatrix}\n",
    "$$"
   ]
  },
  {
   "cell_type": "markdown",
   "metadata": {},
   "source": [
    "대각행렬인 고유값 행렬 $\\Lambda$를 다음과 같이 정의하자."
   ]
  },
  {
   "cell_type": "markdown",
   "metadata": {},
   "source": [
    "$$\n",
    "\\Lambda = \n",
    "\\begin{bmatrix}\n",
    "\\lambda_{1}  & \\cdots & 0 \\\\\n",
    "\\vdots & \\cdots & \\cdots \\\\\n",
    "0 & \\cdots &  \\lambda_{n} \\\\\n",
    "\\end{bmatrix}\n",
    "$$"
   ]
  },
  {
   "cell_type": "markdown",
   "metadata": {},
   "source": [
    "고유벡터 행렬 $E$의 역행렬이 존재할때, 위 정의와 (1)식을 이용하면 다음과 같은 관계가 성립한다."
   ]
  },
  {
   "cell_type": "markdown",
   "metadata": {},
   "source": [
    "$$\n",
    "AE = E\\Lambda\n",
    "$$"
   ]
  },
  {
   "cell_type": "markdown",
   "metadata": {},
   "source": [
    "$$\n",
    "A = E\\Lambda E^{-1} \\tag{3}\n",
    "$$"
   ]
  },
  {
   "cell_type": "markdown",
   "metadata": {},
   "source": [
    "만약 행렬 $A$가 대칭행렬이면 고유벡터 행렬 $E$는 직교행렬이 되어 $E^{T} = E^{-1}$이 성립한다."
   ]
  },
  {
   "cell_type": "markdown",
   "metadata": {},
   "source": [
    "따라서 식 (3)은 다음과 같이 표현 가능하다."
   ]
  },
  {
   "cell_type": "markdown",
   "metadata": {},
   "source": [
    "$$\n",
    "A = E\\Lambda E^{T} \\tag{4}\n",
    "$$"
   ]
  },
  {
   "cell_type": "markdown",
   "metadata": {},
   "source": [
    "- PCA에선 행렬 $A$로 공분산 행렬을 사용하고 공분산 행렬을 대칭행렬이므로 식 (4)가 적용 가능하다."
   ]
  }
 ],
 "metadata": {
  "kernelspec": {
   "display_name": "Python 3",
   "language": "python",
   "name": "python3"
  },
  "language_info": {
   "codemirror_mode": {
    "name": "ipython",
    "version": 3
   },
   "file_extension": ".py",
   "mimetype": "text/x-python",
   "name": "python",
   "nbconvert_exporter": "python",
   "pygments_lexer": "ipython3",
   "version": "3.8.5"
  },
  "toc": {
   "base_numbering": 1,
   "nav_menu": {},
   "number_sections": false,
   "sideBar": true,
   "skip_h1_title": false,
   "title_cell": "Table of Contents",
   "title_sidebar": "Contents",
   "toc_cell": false,
   "toc_position": {
    "height": "calc(100% - 180px)",
    "left": "10px",
    "top": "150px",
    "width": "341.458px"
   },
   "toc_section_display": true,
   "toc_window_display": true
  }
 },
 "nbformat": 4,
 "nbformat_minor": 4
}
