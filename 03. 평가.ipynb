{
 "cells": [
  {
   "cell_type": "markdown",
   "metadata": {},
   "source": [
    "**기본 세팅**"
   ]
  },
  {
   "cell_type": "code",
   "execution_count": 1,
   "metadata": {},
   "outputs": [],
   "source": [
    "import numpy as np\n",
    "import pandas as pd\n",
    "\n",
    "import matplotlib as mpl\n",
    "import matplotlib.pyplot as plt\n",
    "import seaborn as sns\n",
    "\n",
    "import warnings\n",
    "from IPython.display import Image"
   ]
  },
  {
   "cell_type": "code",
   "execution_count": 2,
   "metadata": {},
   "outputs": [],
   "source": [
    "%matplotlib inline\n",
    "%config InlineBackend.figure_format = 'retina'\n",
    "\n",
    "mpl.rc('font', family='NanumGothic') # 폰트 설정\n",
    "mpl.rc('axes', unicode_minus=False) # 유니코드에서 음수 부호 설정\n",
    "\n",
    "# 차트 스타일 설정\n",
    "sns.set(font=\"NanumGothic\", rc={\"axes.unicode_minus\":False}, style='darkgrid')\n",
    "plt.rc(\"figure\", figsize=(10,8))\n",
    "\n",
    "warnings.filterwarnings(\"ignore\")"
   ]
  },
  {
   "cell_type": "markdown",
   "metadata": {},
   "source": [
    "# 1. 정확도(Accuracy)"
   ]
  },
  {
   "cell_type": "markdown",
   "metadata": {},
   "source": [
    "정확도는 실제 데이터에서 예측 데이터가 얼마나 같은지를 판단하는 지표로 직관적으로 모델 예측 성능을 평가 할 수 있다.\n",
    "\n",
    "하지만 이진 분류의 경우 데이터에 따라 ML 모델의 성능을 왜곡할 수 있다."
   ]
  },
  {
   "cell_type": "markdown",
   "metadata": {},
   "source": [
    "- 정확도 = 예측 결과가 동일한 데이터 건수 / 전체 예측 데이터 건수"
   ]
  },
  {
   "cell_type": "markdown",
   "metadata": {},
   "source": [
    "## 1.1 타이타닉 예제"
   ]
  },
  {
   "cell_type": "markdown",
   "metadata": {},
   "source": [
    "**데이터 편집 함수**"
   ]
  },
  {
   "cell_type": "code",
   "execution_count": 3,
   "metadata": {},
   "outputs": [],
   "source": [
    "from sklearn.preprocessing import LabelEncoder\n",
    "\n",
    "# Null 처리\n",
    "def t_fillna(df):\n",
    "    df[\"Age\"].fillna(df.Age.mean(), inplace = True)\n",
    "    df[\"Cabin\"].fillna( \"N\", inplace = True)\n",
    "    df[\"Embarked\"].fillna( \"N\", inplace = True)\n",
    "    df[\"Fare\"].fillna(0, inplace = True) # Train에서 결측은 없었음\n",
    "    return df\n",
    "\n",
    "# 머신러닝 알고리즘에 불필요한 변수 제거\n",
    "def t_drop_features(df):\n",
    "    df.drop([\"PassengerId\", \"Name\", \"Ticket\"], axis=1, inplace=True)\n",
    "    return df\n",
    "\n",
    "# 레이블 인코딩 처리\n",
    "def t_cat_encoding(df):\n",
    "    df[\"Cabin\"] = df[\"Cabin\"].str[:1]\n",
    "    \n",
    "    features = [\"Cabin\", \"Sex\", \"Embarked\"]\n",
    "    \n",
    "    for f in features:\n",
    "        le = LabelEncoder()\n",
    "        le = le.fit(df[f])\n",
    "        df[f] = le.transform(df[f])\n",
    "    return df\n",
    "\n",
    "# 나이 그룹 변수\n",
    "def t_age_cat(df):\n",
    "    bins = [np.min(titanic_df.Age), 5, 12, 18, 25, 35, 60, np.max(titanic_df.Age)]\n",
    "    labels = [\"Baby\", \"Child\", \"Teenager\", \"Student\", \" Young Adult\", \"Adult\", \"Elderly\"]\n",
    "    \n",
    "    df[\"Age_cat\"] = pd.cut(df[\"Age\"], bins, labels=labels)\n",
    "    return df\n",
    "\n",
    "def t_transform_features(df, age_add=False):\n",
    "    t_fillna(df)\n",
    "    t_drop_features(df)\n",
    "    t_cat_encoding(df)\n",
    "    \n",
    "    if age_add == True:\n",
    "        t_age_cat(df)\n",
    "        \n",
    "    return df"
   ]
  },
  {
   "cell_type": "markdown",
   "metadata": {},
   "source": [
    "- Chapter2에서 정의한 타이타닉 데이터 편집함수를 사용"
   ]
  },
  {
   "cell_type": "markdown",
   "metadata": {},
   "source": [
    "**사용자 정의 Estimator**"
   ]
  },
  {
   "cell_type": "code",
   "execution_count": 4,
   "metadata": {},
   "outputs": [],
   "source": [
    "from sklearn.base import BaseEstimator\n",
    "\n",
    "#\n",
    "class MyDummyClassifier(BaseEstimator):\n",
    "    # fit() 메서드는 아무것도 학습하지 않음.\n",
    "    def fit(self, X, y=None):\n",
    "        pass\n",
    "    \n",
    "    # predict() 메서드는 단순히 Sex가 1이면 0, 그렇지 않으면 1로 예측\n",
    "    def predict(self, X):\n",
    "        pred = np.zeros( (X.shape[0],1))\n",
    "        \n",
    "        for i in range(X.shape[0]):\n",
    "            if X.Sex.iloc[i] == 1:\n",
    "                pred[i] = 0\n",
    "            else:\n",
    "                pred[i] = 1\n",
    "                \n",
    "        return pred"
   ]
  },
  {
   "cell_type": "markdown",
   "metadata": {},
   "source": [
    "- `BaseEstimator`는 개발자가 직접 Estimator를 생성할 수 있다.\n",
    "\n",
    "\n",
    "- 여기선 `fit()`은 아무 학습을 하지 않고 `predict()`는 단순히 Sex에 따라 예측하게 설정하였다."
   ]
  },
  {
   "cell_type": "markdown",
   "metadata": {},
   "source": [
    "**학습/예측/평가**"
   ]
  },
  {
   "cell_type": "code",
   "execution_count": 5,
   "metadata": {},
   "outputs": [
    {
     "name": "stdout",
     "output_type": "stream",
     "text": [
      "Dummy Classifier의 정확도: 0.7598\n"
     ]
    }
   ],
   "source": [
    "from sklearn.model_selection import train_test_split\n",
    "from sklearn.metrics import accuracy_score\n",
    "\n",
    "# 데이터 로드, 가공, 학습/검증 데이터 분리\n",
    "titanic_df = pd.read_csv(\"./titanic_train.csv\")\n",
    "titanic_df = t_transform_features(titanic_df)\n",
    "\n",
    "titanic_X = titanic_df.drop(\"Survived\", axis=1)\n",
    "titanic_y = titanic_df[\"Survived\"]\n",
    "\n",
    "X_train, X_test, y_train, y_test = train_test_split(titanic_X, titanic_y, test_size=0.2, random_state=1017)\n",
    "\n",
    "# 사용자 정의 Estimator로 학습/예측/평가\n",
    "my_clf = MyDummyClassifier()\n",
    "my_clf.fit(X_train,y_train)\n",
    "\n",
    "my_pred = my_clf.predict(X_test)\n",
    "\n",
    "acc = accuracy_score(y_test,my_pred)\n",
    "print(f\"Dummy Classifier의 정확도: {acc:.4f}\")"
   ]
  },
  {
   "cell_type": "markdown",
   "metadata": {},
   "source": [
    "- 아무것도 학습하지 않고 단순한 알고리즘에 따라 예측하였음에도 비교적 높은 정확도가 나타났다.\n",
    "\n",
    "\n",
    "- 따라서 정확도를 ML 성능 평가 지표로 사용할 때에는 신중해야한다.\n",
    "\n",
    "\n",
    "- 특히 불균형한 데이터 분포에서 평가 지표로서 적합하지 않다. \n",
    "\n",
    "    만약 0이 90개, 1이 10개인 데이터가 있다면 무조건 0으로 예측하는 ML 모델도 정확도가 90%가 된다."
   ]
  },
  {
   "cell_type": "markdown",
   "metadata": {},
   "source": [
    "## 1.2 MNIST 예제"
   ]
  },
  {
   "cell_type": "markdown",
   "metadata": {},
   "source": [
    "원래 MNIST 데이터는 0부터 9까지의 숫자 이미지의 픽셀 정보를 가지고 있으며 이를 기반으로 숫자 Digit을 예측하는데 사용한다.\n",
    "\n",
    "여기선 숫자 7만 True 나머지는 False로 변경하여 불균형한 데이터 분포로 만들 것이다."
   ]
  },
  {
   "cell_type": "markdown",
   "metadata": {},
   "source": [
    "**사용자 정의 Estimator**"
   ]
  },
  {
   "cell_type": "code",
   "execution_count": 6,
   "metadata": {},
   "outputs": [],
   "source": [
    "class MyFakeClassifier(BaseEstimator):\n",
    "    # fit() 메서드는 아무것도 학습하지 않음.\n",
    "    def fit(self, X, y):\n",
    "        pass\n",
    "    \n",
    "    # 예측값은 모두 0으로 반환\n",
    "    def predict(self, X):\n",
    "        return np.zeros( (X.shape[0],1))"
   ]
  },
  {
   "cell_type": "markdown",
   "metadata": {},
   "source": [
    "**데이터 분포 확인**"
   ]
  },
  {
   "cell_type": "code",
   "execution_count": 7,
   "metadata": {},
   "outputs": [
    {
     "name": "stdout",
     "output_type": "stream",
     "text": [
      "# 검증 데이터 크기: 450\n",
      "# 검증 데이터 분포\n",
      " 0    413\n",
      "1     37\n",
      "dtype: int64\n"
     ]
    }
   ],
   "source": [
    "from sklearn.datasets import load_digits\n",
    "\n",
    "# 데이터 로드, y는 7일 경우 1 나머지는 모두 0으로 설정\n",
    "digits = load_digits()\n",
    "digits_x = digits.data\n",
    "digits_y = (digits.target == 7).astype(int)\n",
    "\n",
    "# 학습/검증 데이터 분리\n",
    "X_train, X_test, y_train, y_test = train_test_split(digits_x, digits_y, random_state=1017)\n",
    "\n",
    "# 불균형한 데이터 분포도 확인\n",
    "print(\"# 검증 데이터 크기:\", y_test.shape[0])\n",
    "print(\"# 검증 데이터 분포\\n\", pd.Series(y_test).value_counts())"
   ]
  },
  {
   "cell_type": "markdown",
   "metadata": {},
   "source": [
    "- 검증 데이터의 대부분이 0으로 분류되어 있다."
   ]
  },
  {
   "cell_type": "markdown",
   "metadata": {},
   "source": [
    "**학습/예측/평가**"
   ]
  },
  {
   "cell_type": "code",
   "execution_count": 8,
   "metadata": {},
   "outputs": [
    {
     "name": "stdout",
     "output_type": "stream",
     "text": [
      "Dummy Classifier의 정확도: 0.9178\n"
     ]
    }
   ],
   "source": [
    "fake_clf = MyFakeClassifier()\n",
    "fake_clf.fit(X_train,y_train)\n",
    "\n",
    "fake_pred = fake_clf.predict(X_test)\n",
    "\n",
    "acc = accuracy_score(y_test,fake_pred)\n",
    "print(f\"Dummy Classifier의 정확도: {acc:.4f}\")"
   ]
  },
  {
   "cell_type": "markdown",
   "metadata": {},
   "source": [
    "- 학습 데이터에 상관없이 모두 0으로 예측하였는데 정확도가 91.78%로 매우 높다.\n",
    "\n",
    "\n",
    "- 즉, 불균형한 데이터 세트에선 성능 평가 지표로 정확도를 사용하면 안된다."
   ]
  },
  {
   "cell_type": "markdown",
   "metadata": {},
   "source": [
    "# 2. 오차 행렬"
   ]
  },
  {
   "cell_type": "markdown",
   "metadata": {},
   "source": [
    "$% ![Error_Matrix](./img/Error_Matrix.png)$\n",
    "<img src=\"./img/Error_Matrix.png\" height=\"100px\" width=\"500px\" align=\"left\">"
   ]
  },
  {
   "cell_type": "markdown",
   "metadata": {},
   "source": [
    "- TN: Negative값 0으로 예측했고 실제 값 역시 Negative값 0\n",
    "\n",
    "\n",
    "- FP: Positive값 1로 예측했고 실제 값은 Negative값 0\n",
    "\n",
    "\n",
    "- FN: Negative값 0으로 예측했고 실제 값은 Positive값 1\n",
    "\n",
    "\n",
    "- TP: Positive값 1로 예측했고 실제 값 역시 Positive값 1"
   ]
  },
  {
   "cell_type": "markdown",
   "metadata": {},
   "source": [
    "- 오차 행렬을 기준으로 정확도는 다음과 같이 정의 할 수 있다.\n",
    "\n",
    "\n",
    "$$\\text{Accuracy} = \\dfrac{(\\text{TN + TP})}{(\\text{TN + FP + FN + TP})}$$"
   ]
  },
  {
   "cell_type": "markdown",
   "metadata": {},
   "source": [
    "**Confusion Matrix**"
   ]
  },
  {
   "cell_type": "code",
   "execution_count": 9,
   "metadata": {},
   "outputs": [
    {
     "data": {
      "text/plain": [
       "array([[413,   0],\n",
       "       [ 37,   0]], dtype=int64)"
      ]
     },
     "execution_count": 9,
     "metadata": {},
     "output_type": "execute_result"
    }
   ],
   "source": [
    "from sklearn.metrics import confusion_matrix\n",
    "\n",
    "confusion_matrix(y_test, fake_pred)"
   ]
  },
  {
   "cell_type": "markdown",
   "metadata": {},
   "source": [
    "- `confusion_matrix`를 이용해 오차행렬을 확인 할 수 있다."
   ]
  },
  {
   "cell_type": "markdown",
   "metadata": {},
   "source": [
    "# 3. 정밀도와 재현율"
   ]
  },
  {
   "cell_type": "markdown",
   "metadata": {},
   "source": [
    "- 정밀도(Precision)는 양성예측도로서 양성으로 예측한 데이터 중 실제 양성의 비율로 다음과 같이 정의 할 수 있다.\n",
    "\n",
    "\n",
    "$$\\text{Precision} = \\dfrac{\\text{TP}}{(\\text{FP + TP})}$$"
   ]
  },
  {
   "cell_type": "markdown",
   "metadata": {},
   "source": [
    "- 재현율(Recall) 혹은 민감도(Sensitivity)는 실제 양성을 양성으로 예측할 확률로 다음과 같이 정의 할 수 있다.\n",
    "\n",
    "\n",
    "$$\\text{Recall} = \\dfrac{\\text{TP}}{(\\text{FN +TP})}$$"
   ]
  },
  {
   "cell_type": "markdown",
   "metadata": {},
   "source": [
    "- 추가적으로 특이도(Specificity)는 실제 음성을 음성으로 예측할 확률로 다음과 같이 정의 할 수 있다.\n",
    "\n",
    "\n",
    "$$\\text{Specificity} = \\dfrac{\\text{TN}}{(\\text{FP +TN})}$$"
   ]
  },
  {
   "cell_type": "markdown",
   "metadata": {},
   "source": [
    "**정확도/정밀도/재현율 함수**"
   ]
  },
  {
   "cell_type": "code",
   "execution_count": 10,
   "metadata": {},
   "outputs": [],
   "source": [
    "from sklearn.metrics import accuracy_score, precision_score, recall_score, confusion_matrix\n",
    "\n",
    "def get_clf_eval(y_test, pred):\n",
    "    confusion = confusion_matrix(y_test, pred)\n",
    "    accuracy = accuracy_score(y_test, pred)\n",
    "    precision = precision_score(y_test, pred)\n",
    "    recall = recall_score(y_test, pred)\n",
    "   \n",
    "    print(\"오차 행렬\")\n",
    "    print(confusion)\n",
    "    print(f\"정확도: {accuracy:.4f}, 정밀도: {precision:.4f}, 재현율: {recall:.4f}\")"
   ]
  },
  {
   "cell_type": "markdown",
   "metadata": {},
   "source": [
    "**Logistic Regression**"
   ]
  },
  {
   "cell_type": "code",
   "execution_count": 11,
   "metadata": {},
   "outputs": [
    {
     "name": "stdout",
     "output_type": "stream",
     "text": [
      "오차 행렬\n",
      "[[90 17]\n",
      " [20 52]]\n",
      "정확도: 0.7933, 정밀도: 0.7536, 재현율: 0.7222\n"
     ]
    }
   ],
   "source": [
    "from sklearn.linear_model import LogisticRegression\n",
    "\n",
    "# 데이터 로드, 가공, 학습/검증 데이터 분리\n",
    "titanic_df = pd.read_csv(\"./titanic_train.csv\")\n",
    "titanic_df = t_transform_features(titanic_df)\n",
    "\n",
    "titanic_X = titanic_df.drop(\"Survived\", axis=1)\n",
    "titanic_y = titanic_df[\"Survived\"]\n",
    "\n",
    "X_train, X_test, y_train, y_test = train_test_split(titanic_X, titanic_y, test_size=0.2, random_state=1017)\n",
    "\n",
    "# 학습/예측/평가\n",
    "lr_clf = LogisticRegression()\n",
    "lr_clf.fit(X_train,y_train)\n",
    "\n",
    "lr_pred = lr_clf.predict(X_test)\n",
    "\n",
    "get_clf_eval(y_test,lr_pred)"
   ]
  },
  {
   "cell_type": "markdown",
   "metadata": {},
   "source": [
    "## 3.1 정밀도/재현율 트레이드오프"
   ]
  },
  {
   "cell_type": "markdown",
   "metadata": {},
   "source": [
    "분류하려는 업무 특성상 정밀도 또는 재현율이 특별히 강조돼야 할 경우 임계값(threshold)을 조정하여 수치를 높일 수 있다.\n",
    "\n",
    "- 기본적으로 데이터를 입력해서 0일 확률이 70%, 1일 확률이 30%이면 0으로 분류하게 된다.\n",
    "\n",
    "\n",
    "- 즉, 50%를 기준으로 예측 분류를 진행하게 되는데 임계값을 20%로 조정한다면 20%보다 높으면 1로 분류하게 된다."
   ]
  },
  {
   "cell_type": "markdown",
   "metadata": {},
   "source": [
    "하지만 정밀도와 재현율은 상호 보완적인 지표이기 때문에 어느한쪽을 높인다면 다른 하나의 수치는 떨어지기 싶다."
   ]
  },
  {
   "cell_type": "markdown",
   "metadata": {},
   "source": [
    "**예측 확률**"
   ]
  },
  {
   "cell_type": "code",
   "execution_count": 12,
   "metadata": {},
   "outputs": [
    {
     "data": {
      "text/html": [
       "<div>\n",
       "<style scoped>\n",
       "    .dataframe tbody tr th:only-of-type {\n",
       "        vertical-align: middle;\n",
       "    }\n",
       "\n",
       "    .dataframe tbody tr th {\n",
       "        vertical-align: top;\n",
       "    }\n",
       "\n",
       "    .dataframe thead th {\n",
       "        text-align: right;\n",
       "    }\n",
       "</style>\n",
       "<table border=\"1\" class=\"dataframe\">\n",
       "  <thead>\n",
       "    <tr style=\"text-align: right;\">\n",
       "      <th></th>\n",
       "      <th>Negative P</th>\n",
       "      <th>Positive P</th>\n",
       "      <th>predict</th>\n",
       "    </tr>\n",
       "  </thead>\n",
       "  <tbody>\n",
       "    <tr>\n",
       "      <th>0</th>\n",
       "      <td>0.357806</td>\n",
       "      <td>0.642194</td>\n",
       "      <td>1.0</td>\n",
       "    </tr>\n",
       "    <tr>\n",
       "      <th>1</th>\n",
       "      <td>0.327997</td>\n",
       "      <td>0.672003</td>\n",
       "      <td>1.0</td>\n",
       "    </tr>\n",
       "    <tr>\n",
       "      <th>2</th>\n",
       "      <td>0.262400</td>\n",
       "      <td>0.737600</td>\n",
       "      <td>1.0</td>\n",
       "    </tr>\n",
       "    <tr>\n",
       "      <th>3</th>\n",
       "      <td>0.276415</td>\n",
       "      <td>0.723585</td>\n",
       "      <td>1.0</td>\n",
       "    </tr>\n",
       "    <tr>\n",
       "      <th>4</th>\n",
       "      <td>0.925354</td>\n",
       "      <td>0.074646</td>\n",
       "      <td>0.0</td>\n",
       "    </tr>\n",
       "  </tbody>\n",
       "</table>\n",
       "</div>"
      ],
      "text/plain": [
       "   Negative P  Positive P  predict\n",
       "0    0.357806    0.642194      1.0\n",
       "1    0.327997    0.672003      1.0\n",
       "2    0.262400    0.737600      1.0\n",
       "3    0.276415    0.723585      1.0\n",
       "4    0.925354    0.074646      0.0"
      ]
     },
     "execution_count": 12,
     "metadata": {},
     "output_type": "execute_result"
    }
   ],
   "source": [
    "lr_pred_proba = lr_clf.predict_proba(X_test)\n",
    "lr_pred = lr_clf.predict(X_test).reshape(-1,1)\n",
    "\n",
    "temp = pd.DataFrame( np.concatenate([lr_pred_proba,lr_pred], axis=1) )\n",
    "temp.columns = [\"Negative P\", \"Positive P\", \"predict\"]\n",
    "temp.head()"
   ]
  },
  {
   "cell_type": "markdown",
   "metadata": {},
   "source": [
    "- `predict_proba`를 이용하여 Negative, Positive 확률을 확인 가능하다."
   ]
  },
  {
   "cell_type": "markdown",
   "metadata": {},
   "source": [
    "**Binarizer**"
   ]
  },
  {
   "cell_type": "code",
   "execution_count": 13,
   "metadata": {},
   "outputs": [
    {
     "name": "stdout",
     "output_type": "stream",
     "text": [
      "[[1. 0.]\n",
      " [0. 1.]]\n"
     ]
    }
   ],
   "source": [
    "from sklearn.preprocessing import Binarizer\n",
    "\n",
    "X = [[1,-1],\n",
    "     [0.3,0.4]]\n",
    "\n",
    "# Binarizer 객체 생성\n",
    "binarizer = Binarizer(threshold = 0.3)\n",
    "\n",
    "# fit, transform\n",
    "binarizer.fit(X)\n",
    "print(binarizer.transform(X))"
   ]
  },
  {
   "cell_type": "markdown",
   "metadata": {},
   "source": [
    "- `Binarizer`는 threshold보다 작거나 같으면 0, 크면 1을 반환한다."
   ]
  },
  {
   "cell_type": "code",
   "execution_count": 14,
   "metadata": {},
   "outputs": [
    {
     "name": "stdout",
     "output_type": "stream",
     "text": [
      "오차 행렬\n",
      "[[90 17]\n",
      " [20 52]]\n",
      "정확도: 0.7933, 정밀도: 0.7536, 재현율: 0.7222\n"
     ]
    }
   ],
   "source": [
    "# threshold 설정\n",
    "my_thres = 0.5\n",
    "\n",
    "# Positive 확률\n",
    "lr_pred_proba_po = lr_pred_proba[:,1].reshape(-1,1)\n",
    "\n",
    "# Binarizer\n",
    "binarizer = Binarizer(threshold = my_thres)\n",
    "binarizer.fit(lr_pred_proba_po)\n",
    "my_pred = binarizer.transform(lr_pred_proba_po)\n",
    "\n",
    "get_clf_eval(y_test,my_pred)"
   ]
  },
  {
   "cell_type": "markdown",
   "metadata": {},
   "source": [
    "- threshold를 0.5로 설정하여 기본 세팅값과 동일한 결과가 출력되는 것을 확인할 수 있다."
   ]
  },
  {
   "cell_type": "code",
   "execution_count": 15,
   "metadata": {},
   "outputs": [
    {
     "name": "stdout",
     "output_type": "stream",
     "text": [
      "오차 행렬\n",
      "[[78 29]\n",
      " [ 9 63]]\n",
      "정확도: 0.7877, 정밀도: 0.6848, 재현율: 0.8750\n"
     ]
    }
   ],
   "source": [
    "# threshold 설정\n",
    "my_thres = 0.3\n",
    "\n",
    "# Positive 확률\n",
    "lr_pred_proba_po = lr_pred_proba[:,1].reshape(-1,1)\n",
    "\n",
    "# Binarizer\n",
    "binarizer = Binarizer(threshold = my_thres)\n",
    "binarizer.fit(lr_pred_proba_po)\n",
    "my_pred = binarizer.transform(lr_pred_proba_po)\n",
    "\n",
    "get_clf_eval(y_test,my_pred)"
   ]
  },
  {
   "cell_type": "markdown",
   "metadata": {},
   "source": [
    "- threshold를 0.3으로 설정하여 Positive로 예측한 경우가 많아졌다. (FP,TP 증가 / FN,TN 감소)\n",
    "\n",
    "\n",
    "- 이에 따라 정밀도는 떨어지고 재현율은 증가한 것을 확인 할 수 있다."
   ]
  },
  {
   "cell_type": "markdown",
   "metadata": {},
   "source": [
    "**Threshold에 따른 평가지표 함수**"
   ]
  },
  {
   "cell_type": "code",
   "execution_count": 16,
   "metadata": {},
   "outputs": [],
   "source": [
    "from sklearn.metrics import f1_score, roc_auc_score\n",
    "\n",
    "def get_clf_eval_thres(y_test, pred_po, threshold, f1_show=False, auc_show=False):\n",
    "    eval_df = pd.DataFrame()\n",
    "    \n",
    "    for thres in threshold:\n",
    "        # threshold에 따른 예측 분류 값\n",
    "        binarizer = Binarizer(threshold = thres)\n",
    "        binarizer.fit(pred_po)\n",
    "        thres_pred = binarizer.transform(pred_po)\n",
    "        \n",
    "        # 평가지표 - F1 스코어는 목차 4, roc는 목차 5에서 확인\n",
    "        accuracy = accuracy_score(y_test, thres_pred)\n",
    "        precision = precision_score(y_test, thres_pred)\n",
    "        recall = recall_score(y_test, thres_pred)\n",
    "        f1 = f1_score(y_test, thres_pred)\n",
    "        auc = roc_auc_score(y_test, pred_po)\n",
    "        \n",
    "        # 데이터 프레임 형태\n",
    "        eval_lst = np.array([accuracy, precision, recall, f1, auc]).reshape(-1,1)\n",
    "        temp = pd.DataFrame(eval_lst, columns=[thres], index = [\"정확도\", \"정밀도\", \"재현율\", \"F1스코어\", \"AUC\"])\n",
    "        eval_df = pd.concat([eval_df,temp], axis=1)\n",
    "        \n",
    "    eval_df.columns.names = [\"임계값\"]\n",
    "    \n",
    "    if f1_show == False:\n",
    "        eval_df.drop(\"F1스코어\", axis=0, inplace=True)\n",
    "        \n",
    "    if auc_show == False:\n",
    "        eval_df.drop(\"AUC\", axis=0, inplace=True)\n",
    "        \n",
    "    return round(eval_df,4)"
   ]
  },
  {
   "cell_type": "code",
   "execution_count": 17,
   "metadata": {},
   "outputs": [
    {
     "data": {
      "text/html": [
       "<div>\n",
       "<style scoped>\n",
       "    .dataframe tbody tr th:only-of-type {\n",
       "        vertical-align: middle;\n",
       "    }\n",
       "\n",
       "    .dataframe tbody tr th {\n",
       "        vertical-align: top;\n",
       "    }\n",
       "\n",
       "    .dataframe thead th {\n",
       "        text-align: right;\n",
       "    }\n",
       "</style>\n",
       "<table border=\"1\" class=\"dataframe\">\n",
       "  <thead>\n",
       "    <tr style=\"text-align: right;\">\n",
       "      <th>임계값</th>\n",
       "      <th>0.40</th>\n",
       "      <th>0.45</th>\n",
       "      <th>0.50</th>\n",
       "      <th>0.55</th>\n",
       "      <th>0.60</th>\n",
       "    </tr>\n",
       "  </thead>\n",
       "  <tbody>\n",
       "    <tr>\n",
       "      <th>정확도</th>\n",
       "      <td>0.7933</td>\n",
       "      <td>0.7989</td>\n",
       "      <td>0.7933</td>\n",
       "      <td>0.7933</td>\n",
       "      <td>0.7821</td>\n",
       "    </tr>\n",
       "    <tr>\n",
       "      <th>정밀도</th>\n",
       "      <td>0.7273</td>\n",
       "      <td>0.7500</td>\n",
       "      <td>0.7536</td>\n",
       "      <td>0.7778</td>\n",
       "      <td>0.8000</td>\n",
       "    </tr>\n",
       "    <tr>\n",
       "      <th>재현율</th>\n",
       "      <td>0.7778</td>\n",
       "      <td>0.7500</td>\n",
       "      <td>0.7222</td>\n",
       "      <td>0.6806</td>\n",
       "      <td>0.6111</td>\n",
       "    </tr>\n",
       "  </tbody>\n",
       "</table>\n",
       "</div>"
      ],
      "text/plain": [
       "임계값    0.40    0.45    0.50    0.55    0.60\n",
       "정확도  0.7933  0.7989  0.7933  0.7933  0.7821\n",
       "정밀도  0.7273  0.7500  0.7536  0.7778  0.8000\n",
       "재현율  0.7778  0.7500  0.7222  0.6806  0.6111"
      ]
     },
     "execution_count": 17,
     "metadata": {},
     "output_type": "execute_result"
    }
   ],
   "source": [
    "# threshold 리스트\n",
    "thres_lst = [0.4, 0.45, 0.5, 0.55, 0.6]\n",
    "\n",
    "# Positive 확률\n",
    "lr_pred_proba_po = lr_pred_proba[:,1].reshape(-1,1)\n",
    "\n",
    "# threshold에 따른 평가지표\n",
    "get_clf_eval_thres(y_test, lr_pred_proba_po, thres_lst)"
   ]
  },
  {
   "cell_type": "markdown",
   "metadata": {},
   "source": [
    "- threshold별로 평가 지표를 확인하였을 때, 만약 재현율을 높이고 싶다면 threhold는 0.45가 좋아보인다.\n",
    "\n",
    "\n",
    "- threshold가 0.45인 경우 원래 기준인 0.5에 비해서 정확도는 증가하였고, 정밀도도 큰 차이가 없다."
   ]
  },
  {
   "cell_type": "markdown",
   "metadata": {},
   "source": [
    "**precision_recall_curve**"
   ]
  },
  {
   "cell_type": "code",
   "execution_count": 18,
   "metadata": {},
   "outputs": [
    {
     "name": "stdout",
     "output_type": "stream",
     "text": [
      "임계값 배열: (163,)\n",
      "샘플 임계값: [0.07 0.1  0.12 0.14 0.23 0.37 0.58 0.66 0.72 0.86]\n",
      "샘플 임계값별 정밀도: [0.426 0.454 0.5   0.574 0.677 0.722 0.79  0.818 0.889 1.   ]\n",
      "샘플 임계값별 재현율: [1.    0.958 0.917 0.917 0.903 0.792 0.681 0.5   0.333 0.139]\n"
     ]
    }
   ],
   "source": [
    "from sklearn.metrics import precision_recall_curve\n",
    "\n",
    "# Positive 확률\n",
    "lr_pred_proba_po = lr_clf.predict_proba(X_test)[:,1].reshape(-1,1)\n",
    "\n",
    "# precision_recall_curve(실제 y, Positve로 예측할 확률)\n",
    "precisions, recalls, thresholds = precision_recall_curve(y_test, lr_pred_proba_po)\n",
    "print(\"임계값 배열:\", thresholds.shape)\n",
    "\n",
    "# 일부 threshold만 사용\n",
    "thr_idx = np.arange(0, thresholds.shape[0], 17) # 17step으로 10개의 threshold 사용\n",
    "\n",
    "print(\"샘플 임계값:\", np.round(thresholds[thr_idx],2))\n",
    "print(\"샘플 임계값별 정밀도:\", np.round(precisions[thr_idx],3))\n",
    "print(\"샘플 임계값별 재현율:\", np.round(recalls[thr_idx],3))"
   ]
  },
  {
   "cell_type": "markdown",
   "metadata": {},
   "source": [
    "- `precision_recall_curve`를 이용하여 threshold별 정밀도, 재현율을 쉽게 구할 수 있다.\n",
    "\n",
    "\n",
    "- threshold가 증가함에 따라 정밀도는 증가하는 반면 재현율은 감소하는 것이 확인 된다."
   ]
  },
  {
   "cell_type": "code",
   "execution_count": 19,
   "metadata": {},
   "outputs": [
    {
     "data": {
      "image/png": "[encoded data removed]",
      "text/plain": [
       "<Figure size 720x576 with 1 Axes>"
      ]
     },
     "metadata": {
      "image/png": {
       "height": 484,
       "width": 614
      }
     },
     "output_type": "display_data"
    }
   ],
   "source": [
    "import matplotlib.ticker as ticker\n",
    "\n",
    "def precision_recall_curve_plot(y_test, pred_proba_po):\n",
    "    # precision_recall_curve(실제 y, Positve로 예측할 확률)\n",
    "    precisions, recalls, thresholds = precision_recall_curve(y_test, pred_proba_po)\n",
    "\n",
    "    # plot\n",
    "    # y축인 precisions와 recalls의 갯수 = threshold 갯수 + 1 이어서 x,y 갯수를 동일하게 맞춰줌\n",
    "    thres_boundary = thresholds.shape[0]\n",
    "    plt.plot(thresholds, precisions[:thres_boundary], \"r\", label=\"precision\")\n",
    "    plt.plot(thresholds, recalls[:thres_boundary], label=\"recall\")\n",
    "    \n",
    "    # x축 스케일 0.1 단위로 조정\n",
    "    start, end = plt.xlim()\n",
    "    plt.xticks( np.round( np.arange(start, end, 0.1), 2))\n",
    "\n",
    "    # 라벨링\n",
    "    plt.xlabel(\"Threshold value\"), plt.ylabel(\"Precision and Recall value\")\n",
    "    plt.legend()\n",
    "\n",
    "    plt.show()\n",
    "    \n",
    "# Positive 확률\n",
    "lr_pred_proba_po = lr_clf.predict_proba(X_test)[:,1].reshape(-1,1)\n",
    "\n",
    "precision_recall_curve_plot(y_test, lr_pred_proba_po)"
   ]
  },
  {
   "cell_type": "markdown",
   "metadata": {},
   "source": [
    "- 그림으로 다시 한번 threshold가 증가함에 따라 정밀도는 증가하는 반면 재현율은 감소하는 것을 확인 할 수 있다.\n",
    "\n",
    "\n",
    "- threshold가 0.45 부근에서 정밀도와 재현율이 비슷한 값을 가지는 것을 확인 할수 있다."
   ]
  },
  {
   "cell_type": "markdown",
   "metadata": {},
   "source": [
    "## 3.2 정밀도와 재현율의 맹점"
   ]
  },
  {
   "cell_type": "markdown",
   "metadata": {},
   "source": [
    "정밀도(Precision)는 양성으로 예측한 데이터 중 실제 양성의 비율이므로 정밀도를 높이려면\n",
    "\n",
    "- 엄격하게 확실히 양성일때만 양성으로 예측하면 된다. (threshold를 높인다.)\n",
    "\n",
    "\n",
    "- 이 경우 실제 양성이 1,000명인데 1명만을 양성으로 예측해서 양성이면 정밀도는 100%가 된다."
   ]
  },
  {
   "cell_type": "markdown",
   "metadata": {},
   "source": [
    "재현율(Recall)은 실제 양성을 양성으로 예측할 확률이므로 재현율을 높이려면\n",
    "\n",
    "\n",
    "- 모두 양성으로 예측하면 된다. (threshold를 낮춘다.)\n",
    "\n",
    "\n",
    "- 이 경우 실제 양성이 10명인데 1,000명을 양성으로 예측했어도 10명이 포함되어 있으므로 재현율은 100%가 된다."
   ]
  },
  {
   "cell_type": "markdown",
   "metadata": {},
   "source": [
    "# 4. F1 스코어"
   ]
  },
  {
   "cell_type": "markdown",
   "metadata": {},
   "source": [
    "F1 스코어는 앞서 정밀도와 재현율의 맹점을 보완하는 지표로 다음과 같이 정의된다.\n",
    "\n",
    "$$\\text{F1} = \\dfrac{2}{\\text{recall}^{-1} + \\text{precision}^{-1}} = 2\\cdot\\dfrac{\\text{precision} \\cdot \\text{recall}}{\\text{precision}+\\text{recall}}$$"
   ]
  },
  {
   "cell_type": "markdown",
   "metadata": {},
   "source": [
    "- F1 스코어는 정밀도와 재현율이 어느 한쪽으로 치우치지 않았을 때 상대적으로 높은 값을 가진다."
   ]
  },
  {
   "cell_type": "code",
   "execution_count": 20,
   "metadata": {},
   "outputs": [
    {
     "name": "stdout",
     "output_type": "stream",
     "text": [
      "F1 스코어: 0.7376\n"
     ]
    }
   ],
   "source": [
    "from sklearn.metrics import f1_score\n",
    "\n",
    "f1 = f1_score(y_test,lr_pred)\n",
    "print(f\"F1 스코어: {f1:.4f}\")"
   ]
  },
  {
   "cell_type": "markdown",
   "metadata": {},
   "source": [
    "- 앞서 타이타닉 예제에서 F1 스코어이다. (threshold는 기본 0.5)"
   ]
  },
  {
   "cell_type": "code",
   "execution_count": 21,
   "metadata": {},
   "outputs": [
    {
     "data": {
      "text/html": [
       "<div>\n",
       "<style scoped>\n",
       "    .dataframe tbody tr th:only-of-type {\n",
       "        vertical-align: middle;\n",
       "    }\n",
       "\n",
       "    .dataframe tbody tr th {\n",
       "        vertical-align: top;\n",
       "    }\n",
       "\n",
       "    .dataframe thead th {\n",
       "        text-align: right;\n",
       "    }\n",
       "</style>\n",
       "<table border=\"1\" class=\"dataframe\">\n",
       "  <thead>\n",
       "    <tr style=\"text-align: right;\">\n",
       "      <th>임계값</th>\n",
       "      <th>0.20</th>\n",
       "      <th>0.30</th>\n",
       "      <th>0.40</th>\n",
       "      <th>0.45</th>\n",
       "      <th>0.50</th>\n",
       "      <th>0.55</th>\n",
       "      <th>0.60</th>\n",
       "      <th>0.70</th>\n",
       "      <th>0.80</th>\n",
       "    </tr>\n",
       "  </thead>\n",
       "  <tbody>\n",
       "    <tr>\n",
       "      <th>정확도</th>\n",
       "      <td>0.7709</td>\n",
       "      <td>0.7877</td>\n",
       "      <td>0.7933</td>\n",
       "      <td>0.7989</td>\n",
       "      <td>0.7933</td>\n",
       "      <td>0.7933</td>\n",
       "      <td>0.7821</td>\n",
       "      <td>0.7374</td>\n",
       "      <td>0.6872</td>\n",
       "    </tr>\n",
       "    <tr>\n",
       "      <th>정밀도</th>\n",
       "      <td>0.6566</td>\n",
       "      <td>0.6848</td>\n",
       "      <td>0.7273</td>\n",
       "      <td>0.7500</td>\n",
       "      <td>0.7536</td>\n",
       "      <td>0.7778</td>\n",
       "      <td>0.8000</td>\n",
       "      <td>0.8788</td>\n",
       "      <td>0.9444</td>\n",
       "    </tr>\n",
       "    <tr>\n",
       "      <th>재현율</th>\n",
       "      <td>0.9028</td>\n",
       "      <td>0.8750</td>\n",
       "      <td>0.7778</td>\n",
       "      <td>0.7500</td>\n",
       "      <td>0.7222</td>\n",
       "      <td>0.6806</td>\n",
       "      <td>0.6111</td>\n",
       "      <td>0.4028</td>\n",
       "      <td>0.2361</td>\n",
       "    </tr>\n",
       "    <tr>\n",
       "      <th>F1스코어</th>\n",
       "      <td>0.7602</td>\n",
       "      <td>0.7683</td>\n",
       "      <td>0.7517</td>\n",
       "      <td>0.7500</td>\n",
       "      <td>0.7376</td>\n",
       "      <td>0.7259</td>\n",
       "      <td>0.6929</td>\n",
       "      <td>0.5524</td>\n",
       "      <td>0.3778</td>\n",
       "    </tr>\n",
       "  </tbody>\n",
       "</table>\n",
       "</div>"
      ],
      "text/plain": [
       "임계값      0.20    0.30    0.40    0.45    0.50    0.55    0.60    0.70    0.80\n",
       "정확도    0.7709  0.7877  0.7933  0.7989  0.7933  0.7933  0.7821  0.7374  0.6872\n",
       "정밀도    0.6566  0.6848  0.7273  0.7500  0.7536  0.7778  0.8000  0.8788  0.9444\n",
       "재현율    0.9028  0.8750  0.7778  0.7500  0.7222  0.6806  0.6111  0.4028  0.2361\n",
       "F1스코어  0.7602  0.7683  0.7517  0.7500  0.7376  0.7259  0.6929  0.5524  0.3778"
      ]
     },
     "execution_count": 21,
     "metadata": {},
     "output_type": "execute_result"
    }
   ],
   "source": [
    "# threshold 리스트\n",
    "thres_lst = [0.2, 0.3, 0.4, 0.45, 0.5, 0.55, 0.6, 0.7, 0.8]\n",
    "\n",
    "# Positive 확률\n",
    "lr_pred_proba_po = lr_pred_proba[:,1].reshape(-1,1)\n",
    "\n",
    "# threshold에 따른 평가지표\n",
    "get_clf_eval_thres(y_test, lr_pred_proba_po, thres_lst, f1_show=True)"
   ]
  },
  {
   "cell_type": "markdown",
   "metadata": {},
   "source": [
    "- F1 스코어는 threshold가 0.3일때 가장 높으나 정밀도가 크게 감소되어 있어 유의하여야 한다."
   ]
  },
  {
   "cell_type": "markdown",
   "metadata": {},
   "source": [
    "# 5. ROC 곡선과 AUC"
   ]
  },
  {
   "cell_type": "markdown",
   "metadata": {},
   "source": [
    "ROC 곡선은 x축으로 FPR = 1 - 특이도, y축으로 TPR = 민감도 로 나타낸 곡선 그림이다.\n",
    "\n",
    "AUC는 ROC 곡선 밑의 면적으로 1에 가까울수록 좋은 수치이다."
   ]
  },
  {
   "cell_type": "markdown",
   "metadata": {},
   "source": [
    "**roc_curve**"
   ]
  },
  {
   "cell_type": "code",
   "execution_count": 22,
   "metadata": {},
   "outputs": [
    {
     "name": "stdout",
     "output_type": "stream",
     "text": [
      "임계값 배열: (60,)\n",
      "샘플 임계값: [0.98 0.69 0.63 0.44 0.31 0.1 ]\n",
      "샘플 임계값별 FPR: [0.    0.056 0.103 0.168 0.271 0.766]\n",
      "샘플 임계값별 TPR: [0.014 0.417 0.611 0.764 0.875 0.944]\n"
     ]
    }
   ],
   "source": [
    "from sklearn.metrics import roc_curve\n",
    "\n",
    "# Positive 확률\n",
    "lr_pred_proba_po = lr_clf.predict_proba(X_test)[:,1].reshape(-1,1)\n",
    "\n",
    "# FPR(1-특이도), TPR(재현율=민감도), Threshold\n",
    "# precision_recall_curve와는 다르게 임계값이 큰 값부터 작은 값 순서이다.\n",
    "FPRs, TPRs, thresholds = roc_curve(y_test, lr_pred_proba_po)\n",
    "print(\"임계값 배열:\", thresholds.shape)\n",
    "\n",
    "# 일부 threshold만 사용\n",
    "# roc_curve에서 thresholds[0]은 max(예측확률)+1로 임의 설정된다. 이를 제외하기 위해 np.arange는 1부터 시작\n",
    "thr_idx = np.arange(1, thresholds.shape[0], 10)\n",
    "\n",
    "print(\"샘플 임계값:\", np.round(thresholds[thr_idx],2))\n",
    "print(\"샘플 임계값별 FPR:\", np.round(FPRs[thr_idx],3))\n",
    "print(\"샘플 임계값별 TPR:\", np.round(TPRs[thr_idx],3))"
   ]
  },
  {
   "cell_type": "markdown",
   "metadata": {},
   "source": [
    "- `roc_curve`를 이용하여 threshold별 FPR, TTR을 쉽게 구할 수 있다.\n",
    "\n",
    "\n",
    "- `precision_recall_curve`와는 다르게 threshold가 큰 값부터 점차 작아지는 순서로 나타난다."
   ]
  },
  {
   "cell_type": "code",
   "execution_count": 23,
   "metadata": {},
   "outputs": [
    {
     "data": {
      "image/png": "[encoded data removed]",
      "text/plain": [
       "<Figure size 720x576 with 1 Axes>"
      ]
     },
     "metadata": {
      "image/png": {
       "height": 488,
       "width": 614
      }
     },
     "output_type": "display_data"
    }
   ],
   "source": [
    "def roc_curve_plot(y_test, pred_proba_po):\n",
    "    # FPR(1-특이도), TPR(재현율=민감도), Threshold\n",
    "    # precision_recall_curve와는 다르게 임계값이 큰 값부터 작은 값 순서이다.\n",
    "    FPRs, TPRs, thresholds = roc_curve(y_test, pred_proba_po)\n",
    "    \n",
    "    # ROC plot\n",
    "    plt.plot(FPRs, TPRs, label =\"ROC\")\n",
    "        \n",
    "    # 45도 직선\n",
    "    plt.plot( [0,1], [0,1], \"k--\", label=\"Random\")\n",
    "    \n",
    "    # x축 스케일 0.1 단위로 조정\n",
    "    start, end = plt.xlim()\n",
    "    plt.xticks( np.round( np.arange(start, end, 0.1), 2))\n",
    "    \n",
    "    # 기타 옵션\n",
    "    plt.xlim(0,1), plt.ylim(0,1)\n",
    "    plt.xlabel(\"FPR(1-Specificity)\"), plt.ylabel(\"TPR(Sensitivity)\")\n",
    "    plt.legend()\n",
    "\n",
    "    plt.show()\n",
    "    \n",
    "# Positive 확률\n",
    "lr_pred_proba_po = lr_clf.predict_proba(X_test)[:,1].reshape(-1,1)\n",
    "\n",
    "roc_curve_plot(y_test, lr_pred_proba_po)"
   ]
  },
  {
   "cell_type": "markdown",
   "metadata": {},
   "source": [
    "- ROC 곡선 자체는 FPR과 TPR의 변화를 보는데 이용하며 분류 성능 지표로는 AUC를 사용한다.\n",
    "\n",
    "\n",
    "- AUC는 곡선이 가운데 직선을 기준으로 왼쪽으로 멀수록, 상단으로 멀수록 높아진다.\n",
    "\n",
    "\n",
    "- 즉, FPR이 낮을 때(특이도가 높을 때) TPR(민감도)가 높을수록 AUC값이 좋아지는 것으로 특이도와 민감도가 모두 좋을 때 높아지는 개념이다."
   ]
  },
  {
   "cell_type": "markdown",
   "metadata": {},
   "source": [
    "**AUC**"
   ]
  },
  {
   "cell_type": "code",
   "execution_count": 24,
   "metadata": {},
   "outputs": [
    {
     "name": "stdout",
     "output_type": "stream",
     "text": [
      "AUC 값: 0.8546\n"
     ]
    }
   ],
   "source": [
    "from sklearn.metrics import roc_auc_score\n",
    "\n",
    "# Positive 확률\n",
    "lr_pred_proba_po = lr_clf.predict_proba(X_test)[:,1].reshape(-1,1)\n",
    "\n",
    "# AUC\n",
    "roc_score = roc_auc_score(y_test, lr_pred_proba_po)\n",
    "print(f\"AUC 값: {roc_score:.4f}\")"
   ]
  },
  {
   "cell_type": "markdown",
   "metadata": {},
   "source": [
    "- 다른 평가 지표는 예측 분류: `predict`값을 기입하였지만 AUC는 `predict_proba`의 양성 확률을 기입하여야 한다.\n",
    "\n",
    "\n",
    "- 확률로 입력이 되어야 threshold별 FPR, TPR등이 계산되어 AUC가 출력 될 것으로 이해하면 좋을 듯 하다."
   ]
  },
  {
   "cell_type": "markdown",
   "metadata": {},
   "source": [
    "**평가지표 함수 - 최종**"
   ]
  },
  {
   "cell_type": "code",
   "execution_count": 25,
   "metadata": {},
   "outputs": [],
   "source": [
    "from sklearn.metrics import accuracy_score, precision_score, recall_score, confusion_matrix\n",
    "from sklearn.metrics import f1_score, roc_auc_score\n",
    "\n",
    "def get_clf_eval(y_test, pred=None, pred_proba_po=None):\n",
    "    confusion = confusion_matrix(y_test, pred)\n",
    "    accuracy = accuracy_score(y_test, pred)\n",
    "    precision = precision_score(y_test, pred)\n",
    "    recall = recall_score(y_test, pred)\n",
    "    f1 = f1_score(y_test, pred)\n",
    "    auc = roc_auc_score(y_test, pred_proba_po)\n",
    "   \n",
    "    print(\"오차 행렬\")\n",
    "    print(confusion)\n",
    "    print(f\"정확도: {accuracy:.4f}, 정밀도: {precision:.4f}, 재현율: {recall:.4f}, F1: {f1:.4f}, AUC: {auc:.4f}\")"
   ]
  },
  {
   "cell_type": "markdown",
   "metadata": {},
   "source": [
    "# 6. 피마 인디언 당뇨병 예측"
   ]
  },
  {
   "cell_type": "markdown",
   "metadata": {},
   "source": [
    "## 6.1 데이터 구조"
   ]
  },
  {
   "cell_type": "markdown",
   "metadata": {},
   "source": [
    "- Pregnancies: 임신 횟수\n",
    "  \n",
    "  \n",
    "- Glucose: 포도당 부하 검사 수치\n",
    "\n",
    "\n",
    "- BloodPressure: 혈압\n",
    "\n",
    "\n",
    "- SkinThickness: 팔 삼두근 뒤쪽의 피하지방 측정값\n",
    "\n",
    "\n",
    "- Insulin: 혈청 인슐린\n",
    "\n",
    "\n",
    "- BMI: 체질량지수\n",
    "\n",
    "\n",
    "- DiabetesPedigreeFunction: 당뇨 내력 가중치 값\n",
    "\n",
    "\n",
    "- Age: 나이\n",
    "\n",
    "\n",
    "- Outcome: 클래스 결정 값(0,1)"
   ]
  },
  {
   "cell_type": "markdown",
   "metadata": {},
   "source": [
    "## 6.2 데이터 불러오기 및 편집"
   ]
  },
  {
   "cell_type": "code",
   "execution_count": 26,
   "metadata": {},
   "outputs": [
    {
     "data": {
      "text/html": [
       "<div>\n",
       "<style scoped>\n",
       "    .dataframe tbody tr th:only-of-type {\n",
       "        vertical-align: middle;\n",
       "    }\n",
       "\n",
       "    .dataframe tbody tr th {\n",
       "        vertical-align: top;\n",
       "    }\n",
       "\n",
       "    .dataframe thead th {\n",
       "        text-align: right;\n",
       "    }\n",
       "</style>\n",
       "<table border=\"1\" class=\"dataframe\">\n",
       "  <thead>\n",
       "    <tr style=\"text-align: right;\">\n",
       "      <th></th>\n",
       "      <th>Pregnancies</th>\n",
       "      <th>Glucose</th>\n",
       "      <th>BloodPressure</th>\n",
       "      <th>SkinThickness</th>\n",
       "      <th>Insulin</th>\n",
       "      <th>BMI</th>\n",
       "      <th>DiabetesPedigreeFunction</th>\n",
       "      <th>Age</th>\n",
       "      <th>Outcome</th>\n",
       "    </tr>\n",
       "  </thead>\n",
       "  <tbody>\n",
       "    <tr>\n",
       "      <th>0</th>\n",
       "      <td>6</td>\n",
       "      <td>148</td>\n",
       "      <td>72</td>\n",
       "      <td>35</td>\n",
       "      <td>0</td>\n",
       "      <td>33.6</td>\n",
       "      <td>0.627</td>\n",
       "      <td>50</td>\n",
       "      <td>1</td>\n",
       "    </tr>\n",
       "    <tr>\n",
       "      <th>1</th>\n",
       "      <td>1</td>\n",
       "      <td>85</td>\n",
       "      <td>66</td>\n",
       "      <td>29</td>\n",
       "      <td>0</td>\n",
       "      <td>26.6</td>\n",
       "      <td>0.351</td>\n",
       "      <td>31</td>\n",
       "      <td>0</td>\n",
       "    </tr>\n",
       "    <tr>\n",
       "      <th>2</th>\n",
       "      <td>8</td>\n",
       "      <td>183</td>\n",
       "      <td>64</td>\n",
       "      <td>0</td>\n",
       "      <td>0</td>\n",
       "      <td>23.3</td>\n",
       "      <td>0.672</td>\n",
       "      <td>32</td>\n",
       "      <td>1</td>\n",
       "    </tr>\n",
       "  </tbody>\n",
       "</table>\n",
       "</div>"
      ],
      "text/plain": [
       "   Pregnancies  Glucose  BloodPressure  SkinThickness  Insulin   BMI  \\\n",
       "0            6      148             72             35        0  33.6   \n",
       "1            1       85             66             29        0  26.6   \n",
       "2            8      183             64              0        0  23.3   \n",
       "\n",
       "   DiabetesPedigreeFunction  Age  Outcome  \n",
       "0                     0.627   50        1  \n",
       "1                     0.351   31        0  \n",
       "2                     0.672   32        1  "
      ]
     },
     "execution_count": 26,
     "metadata": {},
     "output_type": "execute_result"
    }
   ],
   "source": [
    "from sklearn.model_selection import train_test_split\n",
    "from sklearn.metrics import accuracy_score, precision_score, recall_score, roc_auc_score\n",
    "from sklearn.metrics import f1_score, confusion_matrix, precision_recall_curve, roc_curve\n",
    "\n",
    "from sklearn.preprocessing import StandardScaler\n",
    "from sklearn.linear_model import LogisticRegression\n",
    "\n",
    "diabetes_data = pd.read_csv('diabetes.csv')\n",
    "diabetes_data.head(3)"
   ]
  },
  {
   "cell_type": "code",
   "execution_count": 27,
   "metadata": {},
   "outputs": [
    {
     "name": "stdout",
     "output_type": "stream",
     "text": [
      "<class 'pandas.core.frame.DataFrame'>\n",
      "RangeIndex: 768 entries, 0 to 767\n",
      "Data columns (total 9 columns):\n",
      " #   Column                    Non-Null Count  Dtype  \n",
      "---  ------                    --------------  -----  \n",
      " 0   Pregnancies               768 non-null    int64  \n",
      " 1   Glucose                   768 non-null    int64  \n",
      " 2   BloodPressure             768 non-null    int64  \n",
      " 3   SkinThickness             768 non-null    int64  \n",
      " 4   Insulin                   768 non-null    int64  \n",
      " 5   BMI                       768 non-null    float64\n",
      " 6   DiabetesPedigreeFunction  768 non-null    float64\n",
      " 7   Age                       768 non-null    int64  \n",
      " 8   Outcome                   768 non-null    int64  \n",
      "dtypes: float64(2), int64(7)\n",
      "memory usage: 54.1 KB\n"
     ]
    }
   ],
   "source": [
    "diabetes_data.info()"
   ]
  },
  {
   "cell_type": "markdown",
   "metadata": {},
   "source": [
    "- 768개의 행, 9개의 열로 이루어져있으며 결측값은 없다.\n",
    "\n",
    "\n",
    "- 모두 숫자형 변수로 문자형 의미를 가진 변수가 없으므로 인코딩은 필요 없어 보인다."
   ]
  },
  {
   "cell_type": "code",
   "execution_count": 28,
   "metadata": {},
   "outputs": [
    {
     "data": {
      "text/html": [
       "<div>\n",
       "<style scoped>\n",
       "    .dataframe tbody tr th:only-of-type {\n",
       "        vertical-align: middle;\n",
       "    }\n",
       "\n",
       "    .dataframe tbody tr th {\n",
       "        vertical-align: top;\n",
       "    }\n",
       "\n",
       "    .dataframe thead th {\n",
       "        text-align: right;\n",
       "    }\n",
       "</style>\n",
       "<table border=\"1\" class=\"dataframe\">\n",
       "  <thead>\n",
       "    <tr style=\"text-align: right;\">\n",
       "      <th></th>\n",
       "      <th>Pregnancies</th>\n",
       "      <th>Glucose</th>\n",
       "      <th>BloodPressure</th>\n",
       "      <th>SkinThickness</th>\n",
       "      <th>Insulin</th>\n",
       "      <th>BMI</th>\n",
       "      <th>DiabetesPedigreeFunction</th>\n",
       "      <th>Age</th>\n",
       "      <th>Outcome</th>\n",
       "    </tr>\n",
       "  </thead>\n",
       "  <tbody>\n",
       "    <tr>\n",
       "      <th>count</th>\n",
       "      <td>768.000000</td>\n",
       "      <td>768.000000</td>\n",
       "      <td>768.000000</td>\n",
       "      <td>768.000000</td>\n",
       "      <td>768.000000</td>\n",
       "      <td>768.000000</td>\n",
       "      <td>768.000000</td>\n",
       "      <td>768.000000</td>\n",
       "      <td>768.000000</td>\n",
       "    </tr>\n",
       "    <tr>\n",
       "      <th>mean</th>\n",
       "      <td>3.845052</td>\n",
       "      <td>120.894531</td>\n",
       "      <td>69.105469</td>\n",
       "      <td>20.536458</td>\n",
       "      <td>79.799479</td>\n",
       "      <td>31.992578</td>\n",
       "      <td>0.471876</td>\n",
       "      <td>33.240885</td>\n",
       "      <td>0.348958</td>\n",
       "    </tr>\n",
       "    <tr>\n",
       "      <th>std</th>\n",
       "      <td>3.369578</td>\n",
       "      <td>31.972618</td>\n",
       "      <td>19.355807</td>\n",
       "      <td>15.952218</td>\n",
       "      <td>115.244002</td>\n",
       "      <td>7.884160</td>\n",
       "      <td>0.331329</td>\n",
       "      <td>11.760232</td>\n",
       "      <td>0.476951</td>\n",
       "    </tr>\n",
       "    <tr>\n",
       "      <th>min</th>\n",
       "      <td>0.000000</td>\n",
       "      <td>0.000000</td>\n",
       "      <td>0.000000</td>\n",
       "      <td>0.000000</td>\n",
       "      <td>0.000000</td>\n",
       "      <td>0.000000</td>\n",
       "      <td>0.078000</td>\n",
       "      <td>21.000000</td>\n",
       "      <td>0.000000</td>\n",
       "    </tr>\n",
       "    <tr>\n",
       "      <th>25%</th>\n",
       "      <td>1.000000</td>\n",
       "      <td>99.000000</td>\n",
       "      <td>62.000000</td>\n",
       "      <td>0.000000</td>\n",
       "      <td>0.000000</td>\n",
       "      <td>27.300000</td>\n",
       "      <td>0.243750</td>\n",
       "      <td>24.000000</td>\n",
       "      <td>0.000000</td>\n",
       "    </tr>\n",
       "    <tr>\n",
       "      <th>50%</th>\n",
       "      <td>3.000000</td>\n",
       "      <td>117.000000</td>\n",
       "      <td>72.000000</td>\n",
       "      <td>23.000000</td>\n",
       "      <td>30.500000</td>\n",
       "      <td>32.000000</td>\n",
       "      <td>0.372500</td>\n",
       "      <td>29.000000</td>\n",
       "      <td>0.000000</td>\n",
       "    </tr>\n",
       "    <tr>\n",
       "      <th>75%</th>\n",
       "      <td>6.000000</td>\n",
       "      <td>140.250000</td>\n",
       "      <td>80.000000</td>\n",
       "      <td>32.000000</td>\n",
       "      <td>127.250000</td>\n",
       "      <td>36.600000</td>\n",
       "      <td>0.626250</td>\n",
       "      <td>41.000000</td>\n",
       "      <td>1.000000</td>\n",
       "    </tr>\n",
       "    <tr>\n",
       "      <th>max</th>\n",
       "      <td>17.000000</td>\n",
       "      <td>199.000000</td>\n",
       "      <td>122.000000</td>\n",
       "      <td>99.000000</td>\n",
       "      <td>846.000000</td>\n",
       "      <td>67.100000</td>\n",
       "      <td>2.420000</td>\n",
       "      <td>81.000000</td>\n",
       "      <td>1.000000</td>\n",
       "    </tr>\n",
       "  </tbody>\n",
       "</table>\n",
       "</div>"
      ],
      "text/plain": [
       "       Pregnancies     Glucose  BloodPressure  SkinThickness     Insulin  \\\n",
       "count   768.000000  768.000000     768.000000     768.000000  768.000000   \n",
       "mean      3.845052  120.894531      69.105469      20.536458   79.799479   \n",
       "std       3.369578   31.972618      19.355807      15.952218  115.244002   \n",
       "min       0.000000    0.000000       0.000000       0.000000    0.000000   \n",
       "25%       1.000000   99.000000      62.000000       0.000000    0.000000   \n",
       "50%       3.000000  117.000000      72.000000      23.000000   30.500000   \n",
       "75%       6.000000  140.250000      80.000000      32.000000  127.250000   \n",
       "max      17.000000  199.000000     122.000000      99.000000  846.000000   \n",
       "\n",
       "              BMI  DiabetesPedigreeFunction         Age     Outcome  \n",
       "count  768.000000                768.000000  768.000000  768.000000  \n",
       "mean    31.992578                  0.471876   33.240885    0.348958  \n",
       "std      7.884160                  0.331329   11.760232    0.476951  \n",
       "min      0.000000                  0.078000   21.000000    0.000000  \n",
       "25%     27.300000                  0.243750   24.000000    0.000000  \n",
       "50%     32.000000                  0.372500   29.000000    0.000000  \n",
       "75%     36.600000                  0.626250   41.000000    1.000000  \n",
       "max     67.100000                  2.420000   81.000000    1.000000  "
      ]
     },
     "execution_count": 28,
     "metadata": {},
     "output_type": "execute_result"
    }
   ],
   "source": [
    "diabetes_data.describe()"
   ]
  },
  {
   "cell_type": "markdown",
   "metadata": {},
   "source": [
    "- 데이터에 min값이 0인 변수가 많다.\n",
    "\n",
    "\n",
    "- Glucose는 포도당 수치인데 min값이 0이 될 수 없다."
   ]
  },
  {
   "cell_type": "code",
   "execution_count": 29,
   "metadata": {},
   "outputs": [
    {
     "data": {
      "image/png": "[encoded data removed]",
      "text/plain": [
       "<Figure size 720x576 with 1 Axes>"
      ]
     },
     "metadata": {
      "image/png": {
       "height": 484,
       "width": 617
      }
     },
     "output_type": "display_data"
    }
   ],
   "source": [
    "sns.histplot(data = diabetes_data, x = \"Glucose\", kde = False, color = \"pink\")\n",
    "plt.show()"
   ]
  },
  {
   "cell_type": "markdown",
   "metadata": {},
   "source": [
    "- Glucose 히스토그램을 확인하면 0 값이 일정량 존재하는 것을 알 수 있다."
   ]
  },
  {
   "cell_type": "code",
   "execution_count": 30,
   "metadata": {},
   "outputs": [
    {
     "name": "stdout",
     "output_type": "stream",
     "text": [
      "Glucose의 0 건수: 5, 퍼센트: 0.65%\n",
      "BloodPressure의 0 건수: 35, 퍼센트: 4.56%\n",
      "SkinThickness의 0 건수: 227, 퍼센트: 29.56%\n",
      "Insulin의 0 건수: 374, 퍼센트: 48.70%\n",
      "BMI의 0 건수: 11, 퍼센트: 1.43%\n"
     ]
    }
   ],
   "source": [
    "# 0값 검사할 변수 리스트\n",
    "zero_features = ['Glucose', 'BloodPressure', 'SkinThickness', 'Insulin', 'BMI']\n",
    "\n",
    "# 전체 데이터 건수\n",
    "total_count = diabetes_data.count()[0]\n",
    "\n",
    "# 피처별 0값 비율\n",
    "for feature in zero_features:\n",
    "    zero_count = diabetes_data[feature].value_counts()[0]\n",
    "    zero_rate = 100 * zero_count / total_count\n",
    "    print(f\"{feature}의 0 건수: {zero_count}, 퍼센트: {zero_rate:.2f}%\")"
   ]
  },
  {
   "cell_type": "markdown",
   "metadata": {},
   "source": [
    "- SkinThickness, Insulin은 0값의 비율이 높아 데이터를 삭제하긴 무리가 있어 대체값이 필요해 보인다."
   ]
  },
  {
   "cell_type": "code",
   "execution_count": 31,
   "metadata": {},
   "outputs": [],
   "source": [
    "mean_zero_features = diabetes_data[zero_features].mean()\n",
    "\n",
    "diabetes_data[zero_features] = diabetes_data[zero_features].replace(0, mean_zero_features)"
   ]
  },
  {
   "cell_type": "markdown",
   "metadata": {},
   "source": [
    "- 0값을 각 변수의 평균값으로 대체 하였다."
   ]
  },
  {
   "cell_type": "code",
   "execution_count": 32,
   "metadata": {},
   "outputs": [
    {
     "data": {
      "image/png": "[encoded data removed]",
      "text/plain": [
       "<Figure size 720x360 with 1 Axes>"
      ]
     },
     "metadata": {
      "image/png": {
       "height": 286,
       "width": 572
      }
     },
     "output_type": "display_data"
    }
   ],
   "source": [
    "plt.figure(figsize=(10,5))\n",
    "\n",
    "frequency = diabetes_data['Outcome'].value_counts()\n",
    "label = [f\"0: {frequency[0]}개\", f\"1: {frequency[1]}개\"]\n",
    "\n",
    "plt.pie(frequency,\n",
    "    startangle = 180,\n",
    "    counterclock = False,\n",
    "    explode = [0.03] * 2,\n",
    "    autopct = '%1.1f%%',\n",
    "    labels = label,\n",
    "    colors = sns.color_palette('pastel', 2),\n",
    "    wedgeprops = dict(width=0.7)\n",
    "  )\n",
    "\n",
    "\n",
    "plt.axis('equal')\n",
    "plt.show()"
   ]
  },
  {
   "cell_type": "markdown",
   "metadata": {},
   "source": [
    "- 전체 768개 데이터 중 Negative가 500개(65.1%), Positive가 268개(34.9%)로 이루어져 있다.\n",
    "\n",
    "\n",
    "- Negative가 많으므로 정확도보다는 재현율에 초점을 맞춘다."
   ]
  },
  {
   "cell_type": "code",
   "execution_count": 33,
   "metadata": {},
   "outputs": [],
   "source": [
    "X = diabetes_data.iloc[:,:-1]\n",
    "y = diabetes_data.Outcome\n",
    "\n",
    "# StandardScaler\n",
    "scaler = StandardScaler()\n",
    "scaler.fit(X)\n",
    "X_scaled = scaler.transform(X)"
   ]
  },
  {
   "cell_type": "markdown",
   "metadata": {},
   "source": [
    "- 다음 스텝에서 로지스틱 회귀분석을 진행할 것이다. \n",
    "\n",
    "\n",
    "- 로지스틱 회귀분석은 숫자형 데이터에 스케일링을 적용하는 것이 일반적으로 좋다."
   ]
  },
  {
   "cell_type": "markdown",
   "metadata": {},
   "source": [
    "## 6.3 성능 평가"
   ]
  },
  {
   "cell_type": "markdown",
   "metadata": {},
   "source": [
    "**Logistic Regression**"
   ]
  },
  {
   "cell_type": "code",
   "execution_count": 34,
   "metadata": {},
   "outputs": [
    {
     "name": "stdout",
     "output_type": "stream",
     "text": [
      "오차 행렬\n",
      "[[90 10]\n",
      " [21 33]]\n",
      "정확도: 0.7987, 정밀도: 0.7674, 재현율: 0.6111, F1: 0.6804, AUC: 0.8433\n"
     ]
    }
   ],
   "source": [
    "# 학습/검증 데이터 분리 (데이터 분포에 맞게)\n",
    "X_train, X_test, y_train, y_test= train_test_split(X_scaled, y, test_size=0.2, random_state=156, stratify=y)\n",
    "\n",
    "# Logistic Regression 학습/예측/평가\n",
    "lr_clf = LogisticRegression()\n",
    "lr_clf.fit(X_train, y_train)\n",
    "\n",
    "pred = lr_clf.predict(X_test)\n",
    "pred_proba_po = lr_clf.predict_proba(X_test)[:,1].reshape(-1,1)\n",
    "\n",
    "get_clf_eval(y_test, pred, pred_proba_po)"
   ]
  },
  {
   "cell_type": "markdown",
   "metadata": {},
   "source": [
    "**정밀도/재현율**"
   ]
  },
  {
   "cell_type": "code",
   "execution_count": 35,
   "metadata": {},
   "outputs": [
    {
     "data": {
      "image/png": "[encoded data removed]",
      "text/plain": [
       "<Figure size 720x576 with 1 Axes>"
      ]
     },
     "metadata": {
      "image/png": {
       "height": 484,
       "width": 614
      }
     },
     "output_type": "display_data"
    }
   ],
   "source": [
    "precision_recall_curve_plot(y_test, pred_proba_po)"
   ]
  },
  {
   "cell_type": "markdown",
   "metadata": {},
   "source": [
    "- 그림을 보면 임계값이 대략 0.41 정도에 정밀도와 재현율이 균형이 맞는 것으로 보인다.\n",
    "\n",
    "\n",
    "- 하지만 해당 임계값에서 두 지표 모두 낮은 수치로 나타난다."
   ]
  },
  {
   "cell_type": "markdown",
   "metadata": {},
   "source": [
    "**F1 스코어/AUC 추가**"
   ]
  },
  {
   "cell_type": "code",
   "execution_count": 36,
   "metadata": {},
   "outputs": [
    {
     "data": {
      "text/html": [
       "<div>\n",
       "<style scoped>\n",
       "    .dataframe tbody tr th:only-of-type {\n",
       "        vertical-align: middle;\n",
       "    }\n",
       "\n",
       "    .dataframe tbody tr th {\n",
       "        vertical-align: top;\n",
       "    }\n",
       "\n",
       "    .dataframe thead th {\n",
       "        text-align: right;\n",
       "    }\n",
       "</style>\n",
       "<table border=\"1\" class=\"dataframe\">\n",
       "  <thead>\n",
       "    <tr style=\"text-align: right;\">\n",
       "      <th>임계값</th>\n",
       "      <th>0.30</th>\n",
       "      <th>0.33</th>\n",
       "      <th>0.36</th>\n",
       "      <th>0.39</th>\n",
       "      <th>0.42</th>\n",
       "      <th>0.45</th>\n",
       "      <th>0.48</th>\n",
       "      <th>0.50</th>\n",
       "    </tr>\n",
       "  </thead>\n",
       "  <tbody>\n",
       "    <tr>\n",
       "      <th>정확도</th>\n",
       "      <td>0.7143</td>\n",
       "      <td>0.7403</td>\n",
       "      <td>0.7468</td>\n",
       "      <td>0.7532</td>\n",
       "      <td>0.7792</td>\n",
       "      <td>0.7857</td>\n",
       "      <td>0.7987</td>\n",
       "      <td>0.7987</td>\n",
       "    </tr>\n",
       "    <tr>\n",
       "      <th>정밀도</th>\n",
       "      <td>0.5658</td>\n",
       "      <td>0.6000</td>\n",
       "      <td>0.6190</td>\n",
       "      <td>0.6333</td>\n",
       "      <td>0.6923</td>\n",
       "      <td>0.7059</td>\n",
       "      <td>0.7447</td>\n",
       "      <td>0.7674</td>\n",
       "    </tr>\n",
       "    <tr>\n",
       "      <th>재현율</th>\n",
       "      <td>0.7963</td>\n",
       "      <td>0.7778</td>\n",
       "      <td>0.7222</td>\n",
       "      <td>0.7037</td>\n",
       "      <td>0.6667</td>\n",
       "      <td>0.6667</td>\n",
       "      <td>0.6481</td>\n",
       "      <td>0.6111</td>\n",
       "    </tr>\n",
       "    <tr>\n",
       "      <th>F1스코어</th>\n",
       "      <td>0.6615</td>\n",
       "      <td>0.6774</td>\n",
       "      <td>0.6667</td>\n",
       "      <td>0.6667</td>\n",
       "      <td>0.6792</td>\n",
       "      <td>0.6857</td>\n",
       "      <td>0.6931</td>\n",
       "      <td>0.6804</td>\n",
       "    </tr>\n",
       "    <tr>\n",
       "      <th>AUC</th>\n",
       "      <td>0.8433</td>\n",
       "      <td>0.8433</td>\n",
       "      <td>0.8433</td>\n",
       "      <td>0.8433</td>\n",
       "      <td>0.8433</td>\n",
       "      <td>0.8433</td>\n",
       "      <td>0.8433</td>\n",
       "      <td>0.8433</td>\n",
       "    </tr>\n",
       "  </tbody>\n",
       "</table>\n",
       "</div>"
      ],
      "text/plain": [
       "임계값      0.30    0.33    0.36    0.39    0.42    0.45    0.48    0.50\n",
       "정확도    0.7143  0.7403  0.7468  0.7532  0.7792  0.7857  0.7987  0.7987\n",
       "정밀도    0.5658  0.6000  0.6190  0.6333  0.6923  0.7059  0.7447  0.7674\n",
       "재현율    0.7963  0.7778  0.7222  0.7037  0.6667  0.6667  0.6481  0.6111\n",
       "F1스코어  0.6615  0.6774  0.6667  0.6667  0.6792  0.6857  0.6931  0.6804\n",
       "AUC    0.8433  0.8433  0.8433  0.8433  0.8433  0.8433  0.8433  0.8433"
      ]
     },
     "execution_count": 36,
     "metadata": {},
     "output_type": "execute_result"
    }
   ],
   "source": [
    "# threshold 리스트\n",
    "thres_lst = [0.3, 0.33, 0.36, 0.39, 0.42, 0.45, 0.48, 0.5]\n",
    "get_clf_eval_thres(y_test, pred_proba_po, thres_lst, f1_show=True, auc_show=True)"
   ]
  },
  {
   "cell_type": "markdown",
   "metadata": {},
   "source": [
    "- 재현율을 높이는데 초점을 둔다면 threshod는 0.3일때 가장 좋아보이나 정밀도가 매우 낮아진다.\n",
    "\n",
    "\n",
    "- threshold가 0.48이 전체적인 성능 평가 지표를 유지하면서 재현율을 약간 높이므로 좋은 임계값으로 보인다."
   ]
  },
  {
   "cell_type": "code",
   "execution_count": 37,
   "metadata": {},
   "outputs": [
    {
     "name": "stdout",
     "output_type": "stream",
     "text": [
      "오차 행렬\n",
      "[[88 12]\n",
      " [19 35]]\n",
      "정확도: 0.7987, 정밀도: 0.7447, 재현율: 0.6481, F1: 0.6931, AUC: 0.8433\n"
     ]
    }
   ],
   "source": [
    "binarizer = Binarizer(threshold = 0.48)\n",
    "pred048 = binarizer.fit_transform(pred_proba_po)\n",
    "\n",
    "get_clf_eval(y_test, pred048, pred_proba_po)"
   ]
  },
  {
   "cell_type": "markdown",
   "metadata": {},
   "source": [
    "- threshold가 0.48일때 오차행렬 및 앞서 구한 성능 평가 지표이다."
   ]
  }
 ],
 "metadata": {
  "kernelspec": {
   "display_name": "Python 3",
   "language": "python",
   "name": "python3"
  },
  "language_info": {
   "codemirror_mode": {
    "name": "ipython",
    "version": 3
   },
   "file_extension": ".py",
   "mimetype": "text/x-python",
   "name": "python",
   "nbconvert_exporter": "python",
   "pygments_lexer": "ipython3",
   "version": "3.8.5"
  },
  "toc": {
   "base_numbering": 1,
   "nav_menu": {},
   "number_sections": false,
   "sideBar": true,
   "skip_h1_title": false,
   "title_cell": "Table of Contents",
   "title_sidebar": "Contents",
   "toc_cell": false,
   "toc_position": {
    "height": "calc(100% - 180px)",
    "left": "10px",
    "top": "150px",
    "width": "310.417px"
   },
   "toc_section_display": true,
   "toc_window_display": true
  }
 },
 "nbformat": 4,
 "nbformat_minor": 4
}
