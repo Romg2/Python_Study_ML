{
 "cells": [
  {
   "cell_type": "markdown",
   "metadata": {},
   "source": [
    "**기본 세팅**"
   ]
  },
  {
   "cell_type": "code",
   "execution_count": 1,
   "metadata": {},
   "outputs": [],
   "source": [
    "import numpy as np\n",
    "import pandas as pd\n",
    "\n",
    "import matplotlib as mpl\n",
    "import matplotlib.pyplot as plt\n",
    "import seaborn as sns\n",
    "\n",
    "import warnings"
   ]
  },
  {
   "cell_type": "code",
   "execution_count": 2,
   "metadata": {},
   "outputs": [],
   "source": [
    "%matplotlib inline\n",
    "%config InlineBackend.figure_format = 'retina'\n",
    "\n",
    "mpl.rc('font', family='NanumGothic') # 폰트 설정\n",
    "mpl.rc('axes', unicode_minus=False) # 유니코드에서 음수 부호 설정\n",
    "\n",
    "# 차트 스타일 설정\n",
    "sns.set(font=\"NanumGothic\", rc={\"axes.unicode_minus\":False}, style='darkgrid')\n",
    "plt.rc(\"figure\", figsize=(10,8))\n",
    "\n",
    "warnings.filterwarnings(\"ignore\")"
   ]
  },
  {
   "cell_type": "markdown",
   "metadata": {},
   "source": [
    "---"
   ]
  },
  {
   "cell_type": "markdown",
   "metadata": {},
   "source": [
    "# 협업 필터링"
   ]
  },
  {
   "cell_type": "markdown",
   "metadata": {},
   "source": [
    "추천 시스템은 크게 **콘텐츠 기반 필터링** 방식과 **협업 필터링** 방식으로 나뉜다.\n",
    "\n",
    "그리고 협업 필터링 방식은 다시 **최근접 이웃 협업 필터링**과 **잠재 요인 협업 필터링**으로 나뉜다."
   ]
  },
  {
   "cell_type": "markdown",
   "metadata": {},
   "source": [
    "협업 필터링은 사용자가 매긴 평점이나 상품 구매 이력 등 사용자 행동 양식만을 기반으로 추천하는 방식이다.\n",
    "\n",
    "예를 들어, 나와 취향이 비슷한 친구에게 다른 영화의 정보를 물어보는 것과 유사한 방식이다."
   ]
  },
  {
   "cell_type": "markdown",
   "metadata": {},
   "source": [
    "# 2. 최근접 이웃 협업 필터링"
   ]
  },
  {
   "cell_type": "markdown",
   "metadata": {},
   "source": [
    "최근접 이웃 협업 필터링은 사용자 기반과 아이템 기반으로 분류한다."
   ]
  },
  {
   "cell_type": "markdown",
   "metadata": {},
   "source": [
    "- 사용자 기반: 나와 비슷한 성향의 사람이 재밌게 본 영화 등을 추천하는 방식이다.\n",
    "\n",
    "\n",
    "- 아이템 기반: 아이템에 대한 평가가 유사한 아이템을 추천하는 방식으로 일반적으로 성능이 더 뛰어나다."
   ]
  },
  {
   "cell_type": "markdown",
   "metadata": {},
   "source": [
    "여기선 아이템 기반의 협업 필터링을 구현해본다.\n",
    "\n",
    "아이템 기반이 아이템의 속성이 비슷한 것이 아닌 평가가 유사한 것을 추천하는 방식임을 유의하자."
   ]
  },
  {
   "cell_type": "markdown",
   "metadata": {},
   "source": [
    "## 2.1 데이터 로딩 및 가공"
   ]
  },
  {
   "cell_type": "markdown",
   "metadata": {},
   "source": [
    "데이터는 [Grouplens 사이트](https://grouplens.org/datasets/movielens/latest/)에서 만든 MovieLens 데이터를 사용한다."
   ]
  },
  {
   "cell_type": "code",
   "execution_count": 3,
   "metadata": {},
   "outputs": [],
   "source": [
    "movies = pd.read_csv(\"./ml-latest-small/movies.csv\")\n",
    "ratings = pd.read_csv(\"./ml-latest-small/ratings.csv\")"
   ]
  },
  {
   "cell_type": "code",
   "execution_count": 4,
   "metadata": {},
   "outputs": [
    {
     "data": {
      "text/html": [
       "<div>\n",
       "<style scoped>\n",
       "    .dataframe tbody tr th:only-of-type {\n",
       "        vertical-align: middle;\n",
       "    }\n",
       "\n",
       "    .dataframe tbody tr th {\n",
       "        vertical-align: top;\n",
       "    }\n",
       "\n",
       "    .dataframe thead th {\n",
       "        text-align: right;\n",
       "    }\n",
       "</style>\n",
       "<table border=\"1\" class=\"dataframe\">\n",
       "  <thead>\n",
       "    <tr style=\"text-align: right;\">\n",
       "      <th></th>\n",
       "      <th>movieId</th>\n",
       "      <th>title</th>\n",
       "      <th>genres</th>\n",
       "    </tr>\n",
       "  </thead>\n",
       "  <tbody>\n",
       "    <tr>\n",
       "      <th>0</th>\n",
       "      <td>1</td>\n",
       "      <td>Toy Story (1995)</td>\n",
       "      <td>Adventure|Animation|Children|Comedy|Fantasy</td>\n",
       "    </tr>\n",
       "  </tbody>\n",
       "</table>\n",
       "</div>"
      ],
      "text/plain": [
       "   movieId             title                                       genres\n",
       "0        1  Toy Story (1995)  Adventure|Animation|Children|Comedy|Fantasy"
      ]
     },
     "execution_count": 4,
     "metadata": {},
     "output_type": "execute_result"
    }
   ],
   "source": [
    "movies.head(1)"
   ]
  },
  {
   "cell_type": "markdown",
   "metadata": {},
   "source": [
    "- moives 파일은 영화의 제목과 장르 정보를 가지고 있다."
   ]
  },
  {
   "cell_type": "code",
   "execution_count": 5,
   "metadata": {},
   "outputs": [
    {
     "data": {
      "text/html": [
       "<div>\n",
       "<style scoped>\n",
       "    .dataframe tbody tr th:only-of-type {\n",
       "        vertical-align: middle;\n",
       "    }\n",
       "\n",
       "    .dataframe tbody tr th {\n",
       "        vertical-align: top;\n",
       "    }\n",
       "\n",
       "    .dataframe thead th {\n",
       "        text-align: right;\n",
       "    }\n",
       "</style>\n",
       "<table border=\"1\" class=\"dataframe\">\n",
       "  <thead>\n",
       "    <tr style=\"text-align: right;\">\n",
       "      <th></th>\n",
       "      <th>userId</th>\n",
       "      <th>movieId</th>\n",
       "      <th>rating</th>\n",
       "      <th>timestamp</th>\n",
       "    </tr>\n",
       "  </thead>\n",
       "  <tbody>\n",
       "    <tr>\n",
       "      <th>0</th>\n",
       "      <td>1</td>\n",
       "      <td>1</td>\n",
       "      <td>4.0</td>\n",
       "      <td>964982703</td>\n",
       "    </tr>\n",
       "  </tbody>\n",
       "</table>\n",
       "</div>"
      ],
      "text/plain": [
       "   userId  movieId  rating  timestamp\n",
       "0       1        1     4.0  964982703"
      ]
     },
     "execution_count": 5,
     "metadata": {},
     "output_type": "execute_result"
    }
   ],
   "source": [
    "ratings.head(1)"
   ]
  },
  {
   "cell_type": "markdown",
   "metadata": {},
   "source": [
    "- ratings 파일은 사용자별로 영화에 대한 평점 정보를 가지고 있다.\n",
    "\n",
    "\n",
    "- 평점은 0.5 ~ 5점 사이로, 0.5점 단위로 평점이 부여된다."
   ]
  },
  {
   "cell_type": "code",
   "execution_count": 6,
   "metadata": {},
   "outputs": [
    {
     "data": {
      "text/html": [
       "<div>\n",
       "<style scoped>\n",
       "    .dataframe tbody tr th:only-of-type {\n",
       "        vertical-align: middle;\n",
       "    }\n",
       "\n",
       "    .dataframe tbody tr th {\n",
       "        vertical-align: top;\n",
       "    }\n",
       "\n",
       "    .dataframe thead th {\n",
       "        text-align: right;\n",
       "    }\n",
       "</style>\n",
       "<table border=\"1\" class=\"dataframe\">\n",
       "  <thead>\n",
       "    <tr style=\"text-align: right;\">\n",
       "      <th>movieId</th>\n",
       "      <th>1</th>\n",
       "      <th>2</th>\n",
       "      <th>3</th>\n",
       "      <th>4</th>\n",
       "      <th>5</th>\n",
       "      <th>6</th>\n",
       "      <th>7</th>\n",
       "      <th>8</th>\n",
       "      <th>9</th>\n",
       "      <th>10</th>\n",
       "      <th>...</th>\n",
       "      <th>193565</th>\n",
       "      <th>193567</th>\n",
       "      <th>193571</th>\n",
       "      <th>193573</th>\n",
       "      <th>193579</th>\n",
       "      <th>193581</th>\n",
       "      <th>193583</th>\n",
       "      <th>193585</th>\n",
       "      <th>193587</th>\n",
       "      <th>193609</th>\n",
       "    </tr>\n",
       "    <tr>\n",
       "      <th>userId</th>\n",
       "      <th></th>\n",
       "      <th></th>\n",
       "      <th></th>\n",
       "      <th></th>\n",
       "      <th></th>\n",
       "      <th></th>\n",
       "      <th></th>\n",
       "      <th></th>\n",
       "      <th></th>\n",
       "      <th></th>\n",
       "      <th></th>\n",
       "      <th></th>\n",
       "      <th></th>\n",
       "      <th></th>\n",
       "      <th></th>\n",
       "      <th></th>\n",
       "      <th></th>\n",
       "      <th></th>\n",
       "      <th></th>\n",
       "      <th></th>\n",
       "      <th></th>\n",
       "    </tr>\n",
       "  </thead>\n",
       "  <tbody>\n",
       "    <tr>\n",
       "      <th>1</th>\n",
       "      <td>4.0</td>\n",
       "      <td>NaN</td>\n",
       "      <td>4.0</td>\n",
       "      <td>NaN</td>\n",
       "      <td>NaN</td>\n",
       "      <td>4.0</td>\n",
       "      <td>NaN</td>\n",
       "      <td>NaN</td>\n",
       "      <td>NaN</td>\n",
       "      <td>NaN</td>\n",
       "      <td>...</td>\n",
       "      <td>NaN</td>\n",
       "      <td>NaN</td>\n",
       "      <td>NaN</td>\n",
       "      <td>NaN</td>\n",
       "      <td>NaN</td>\n",
       "      <td>NaN</td>\n",
       "      <td>NaN</td>\n",
       "      <td>NaN</td>\n",
       "      <td>NaN</td>\n",
       "      <td>NaN</td>\n",
       "    </tr>\n",
       "  </tbody>\n",
       "</table>\n",
       "<p>1 rows × 9724 columns</p>\n",
       "</div>"
      ],
      "text/plain": [
       "movieId  1       2       3       4       5       6       7       8       \\\n",
       "userId                                                                    \n",
       "1           4.0     NaN     4.0     NaN     NaN     4.0     NaN     NaN   \n",
       "\n",
       "movieId  9       10      ...  193565  193567  193571  193573  193579  193581  \\\n",
       "userId                   ...                                                   \n",
       "1           NaN     NaN  ...     NaN     NaN     NaN     NaN     NaN     NaN   \n",
       "\n",
       "movieId  193583  193585  193587  193609  \n",
       "userId                                   \n",
       "1           NaN     NaN     NaN     NaN  \n",
       "\n",
       "[1 rows x 9724 columns]"
      ]
     },
     "execution_count": 6,
     "metadata": {},
     "output_type": "execute_result"
    }
   ],
   "source": [
    "ratings_matrix = ratings.pivot_table(\"rating\", \"userId\", \"movieId\")\n",
    "ratings_matrix.head(1)"
   ]
  },
  {
   "cell_type": "markdown",
   "metadata": {},
   "source": [
    "- 사용자-아이템 평점 행렬을 생성하였다.\n",
    "\n",
    "\n",
    "- 사용자가 평점을 매기지 않은 영화는 모두 NaN값으로 할당되었는데 이는 0점으로 변경한다.\n",
    "\n",
    "\n",
    "- 컬럼이 movieId여서 무슨 영화인지 직관적으로 알아보기 힘들어 title로 변경하도록 한다."
   ]
  },
  {
   "cell_type": "code",
   "execution_count": 7,
   "metadata": {},
   "outputs": [
    {
     "data": {
      "text/html": [
       "<div>\n",
       "<style scoped>\n",
       "    .dataframe tbody tr th:only-of-type {\n",
       "        vertical-align: middle;\n",
       "    }\n",
       "\n",
       "    .dataframe tbody tr th {\n",
       "        vertical-align: top;\n",
       "    }\n",
       "\n",
       "    .dataframe thead th {\n",
       "        text-align: right;\n",
       "    }\n",
       "</style>\n",
       "<table border=\"1\" class=\"dataframe\">\n",
       "  <thead>\n",
       "    <tr style=\"text-align: right;\">\n",
       "      <th>userId</th>\n",
       "      <th>1</th>\n",
       "      <th>2</th>\n",
       "      <th>3</th>\n",
       "      <th>4</th>\n",
       "      <th>5</th>\n",
       "      <th>6</th>\n",
       "      <th>7</th>\n",
       "      <th>8</th>\n",
       "      <th>9</th>\n",
       "      <th>10</th>\n",
       "      <th>...</th>\n",
       "      <th>601</th>\n",
       "      <th>602</th>\n",
       "      <th>603</th>\n",
       "      <th>604</th>\n",
       "      <th>605</th>\n",
       "      <th>606</th>\n",
       "      <th>607</th>\n",
       "      <th>608</th>\n",
       "      <th>609</th>\n",
       "      <th>610</th>\n",
       "    </tr>\n",
       "    <tr>\n",
       "      <th>title</th>\n",
       "      <th></th>\n",
       "      <th></th>\n",
       "      <th></th>\n",
       "      <th></th>\n",
       "      <th></th>\n",
       "      <th></th>\n",
       "      <th></th>\n",
       "      <th></th>\n",
       "      <th></th>\n",
       "      <th></th>\n",
       "      <th></th>\n",
       "      <th></th>\n",
       "      <th></th>\n",
       "      <th></th>\n",
       "      <th></th>\n",
       "      <th></th>\n",
       "      <th></th>\n",
       "      <th></th>\n",
       "      <th></th>\n",
       "      <th></th>\n",
       "      <th></th>\n",
       "    </tr>\n",
       "  </thead>\n",
       "  <tbody>\n",
       "    <tr>\n",
       "      <th>'71 (2014)</th>\n",
       "      <td>0.0</td>\n",
       "      <td>0.0</td>\n",
       "      <td>0.0</td>\n",
       "      <td>0.0</td>\n",
       "      <td>0.0</td>\n",
       "      <td>0.0</td>\n",
       "      <td>0.0</td>\n",
       "      <td>0.0</td>\n",
       "      <td>0.0</td>\n",
       "      <td>0.0</td>\n",
       "      <td>...</td>\n",
       "      <td>0.0</td>\n",
       "      <td>0.0</td>\n",
       "      <td>0.0</td>\n",
       "      <td>0.0</td>\n",
       "      <td>0.0</td>\n",
       "      <td>0.0</td>\n",
       "      <td>0.0</td>\n",
       "      <td>0.0</td>\n",
       "      <td>0.0</td>\n",
       "      <td>4.0</td>\n",
       "    </tr>\n",
       "    <tr>\n",
       "      <th>'Hellboy': The Seeds of Creation (2004)</th>\n",
       "      <td>0.0</td>\n",
       "      <td>0.0</td>\n",
       "      <td>0.0</td>\n",
       "      <td>0.0</td>\n",
       "      <td>0.0</td>\n",
       "      <td>0.0</td>\n",
       "      <td>0.0</td>\n",
       "      <td>0.0</td>\n",
       "      <td>0.0</td>\n",
       "      <td>0.0</td>\n",
       "      <td>...</td>\n",
       "      <td>0.0</td>\n",
       "      <td>0.0</td>\n",
       "      <td>0.0</td>\n",
       "      <td>0.0</td>\n",
       "      <td>0.0</td>\n",
       "      <td>0.0</td>\n",
       "      <td>0.0</td>\n",
       "      <td>0.0</td>\n",
       "      <td>0.0</td>\n",
       "      <td>0.0</td>\n",
       "    </tr>\n",
       "    <tr>\n",
       "      <th>'Round Midnight (1986)</th>\n",
       "      <td>0.0</td>\n",
       "      <td>0.0</td>\n",
       "      <td>0.0</td>\n",
       "      <td>0.0</td>\n",
       "      <td>0.0</td>\n",
       "      <td>0.0</td>\n",
       "      <td>0.0</td>\n",
       "      <td>0.0</td>\n",
       "      <td>0.0</td>\n",
       "      <td>0.0</td>\n",
       "      <td>...</td>\n",
       "      <td>0.0</td>\n",
       "      <td>0.0</td>\n",
       "      <td>0.0</td>\n",
       "      <td>0.0</td>\n",
       "      <td>0.0</td>\n",
       "      <td>0.0</td>\n",
       "      <td>0.0</td>\n",
       "      <td>0.0</td>\n",
       "      <td>0.0</td>\n",
       "      <td>0.0</td>\n",
       "    </tr>\n",
       "  </tbody>\n",
       "</table>\n",
       "<p>3 rows × 610 columns</p>\n",
       "</div>"
      ],
      "text/plain": [
       "userId                                   1    2    3    4    5    6    7    \\\n",
       "title                                                                        \n",
       "'71 (2014)                               0.0  0.0  0.0  0.0  0.0  0.0  0.0   \n",
       "'Hellboy': The Seeds of Creation (2004)  0.0  0.0  0.0  0.0  0.0  0.0  0.0   \n",
       "'Round Midnight (1986)                   0.0  0.0  0.0  0.0  0.0  0.0  0.0   \n",
       "\n",
       "userId                                   8    9    10   ...  601  602  603  \\\n",
       "title                                                   ...                  \n",
       "'71 (2014)                               0.0  0.0  0.0  ...  0.0  0.0  0.0   \n",
       "'Hellboy': The Seeds of Creation (2004)  0.0  0.0  0.0  ...  0.0  0.0  0.0   \n",
       "'Round Midnight (1986)                   0.0  0.0  0.0  ...  0.0  0.0  0.0   \n",
       "\n",
       "userId                                   604  605  606  607  608  609  610  \n",
       "title                                                                       \n",
       "'71 (2014)                               0.0  0.0  0.0  0.0  0.0  0.0  4.0  \n",
       "'Hellboy': The Seeds of Creation (2004)  0.0  0.0  0.0  0.0  0.0  0.0  0.0  \n",
       "'Round Midnight (1986)                   0.0  0.0  0.0  0.0  0.0  0.0  0.0  \n",
       "\n",
       "[3 rows x 610 columns]"
      ]
     },
     "execution_count": 7,
     "metadata": {},
     "output_type": "execute_result"
    }
   ],
   "source": [
    "# ratings 데이터와 movies 데이터 결합\n",
    "rating_movies = pd.merge(ratings, movies, on=\"movieId\")\n",
    "\n",
    "# 사용자-아이템 평점 행렬 생성\n",
    "ratings_matrix = rating_movies.pivot_table(\"rating\", \"userId\", \"title\")\n",
    "\n",
    "# NaN값은 0으로 변환\n",
    "ratings_matrix.fillna(0, inplace=True)\n",
    "\n",
    "# 아이템-사용자 평점 행렬로 전치\n",
    "ratings_matrix_T = ratings_matrix.T\n",
    "ratings_matrix_T.head(3)"
   ]
  },
  {
   "cell_type": "markdown",
   "metadata": {},
   "source": [
    "- 컬럼은 영화 제목으로 변경하고 NaN값은 모두 0으로 변환하였다.\n",
    "\n",
    "\n",
    "- 아이템 기반 협업 필터링을 위해 사용자-아이템 평점 행렬을 전치하여 아이템-사용자 평점 행렬로 생성하였다."
   ]
  },
  {
   "cell_type": "markdown",
   "metadata": {},
   "source": [
    "## 2.2 영화 간 유사도 산출"
   ]
  },
  {
   "cell_type": "code",
   "execution_count": 8,
   "metadata": {},
   "outputs": [
    {
     "data": {
      "text/html": [
       "<div>\n",
       "<style scoped>\n",
       "    .dataframe tbody tr th:only-of-type {\n",
       "        vertical-align: middle;\n",
       "    }\n",
       "\n",
       "    .dataframe tbody tr th {\n",
       "        vertical-align: top;\n",
       "    }\n",
       "\n",
       "    .dataframe thead th {\n",
       "        text-align: right;\n",
       "    }\n",
       "</style>\n",
       "<table border=\"1\" class=\"dataframe\">\n",
       "  <thead>\n",
       "    <tr style=\"text-align: right;\">\n",
       "      <th>title</th>\n",
       "      <th>'71 (2014)</th>\n",
       "      <th>'Hellboy': The Seeds of Creation (2004)</th>\n",
       "      <th>'Round Midnight (1986)</th>\n",
       "      <th>'Salem's Lot (2004)</th>\n",
       "    </tr>\n",
       "    <tr>\n",
       "      <th>title</th>\n",
       "      <th></th>\n",
       "      <th></th>\n",
       "      <th></th>\n",
       "      <th></th>\n",
       "    </tr>\n",
       "  </thead>\n",
       "  <tbody>\n",
       "    <tr>\n",
       "      <th>'71 (2014)</th>\n",
       "      <td>1.0</td>\n",
       "      <td>0.000000</td>\n",
       "      <td>0.000000</td>\n",
       "      <td>0.0</td>\n",
       "    </tr>\n",
       "    <tr>\n",
       "      <th>'Hellboy': The Seeds of Creation (2004)</th>\n",
       "      <td>0.0</td>\n",
       "      <td>1.000000</td>\n",
       "      <td>0.707107</td>\n",
       "      <td>0.0</td>\n",
       "    </tr>\n",
       "    <tr>\n",
       "      <th>'Round Midnight (1986)</th>\n",
       "      <td>0.0</td>\n",
       "      <td>0.707107</td>\n",
       "      <td>1.000000</td>\n",
       "      <td>0.0</td>\n",
       "    </tr>\n",
       "    <tr>\n",
       "      <th>'Salem's Lot (2004)</th>\n",
       "      <td>0.0</td>\n",
       "      <td>0.000000</td>\n",
       "      <td>0.000000</td>\n",
       "      <td>1.0</td>\n",
       "    </tr>\n",
       "  </tbody>\n",
       "</table>\n",
       "</div>"
      ],
      "text/plain": [
       "title                                    '71 (2014)  \\\n",
       "title                                                 \n",
       "'71 (2014)                                      1.0   \n",
       "'Hellboy': The Seeds of Creation (2004)         0.0   \n",
       "'Round Midnight (1986)                          0.0   \n",
       "'Salem's Lot (2004)                             0.0   \n",
       "\n",
       "title                                    'Hellboy': The Seeds of Creation (2004)  \\\n",
       "title                                                                              \n",
       "'71 (2014)                                                              0.000000   \n",
       "'Hellboy': The Seeds of Creation (2004)                                 1.000000   \n",
       "'Round Midnight (1986)                                                  0.707107   \n",
       "'Salem's Lot (2004)                                                     0.000000   \n",
       "\n",
       "title                                    'Round Midnight (1986)  \\\n",
       "title                                                             \n",
       "'71 (2014)                                             0.000000   \n",
       "'Hellboy': The Seeds of Creation (2004)                0.707107   \n",
       "'Round Midnight (1986)                                 1.000000   \n",
       "'Salem's Lot (2004)                                    0.000000   \n",
       "\n",
       "title                                    'Salem's Lot (2004)  \n",
       "title                                                         \n",
       "'71 (2014)                                               0.0  \n",
       "'Hellboy': The Seeds of Creation (2004)                  0.0  \n",
       "'Round Midnight (1986)                                   0.0  \n",
       "'Salem's Lot (2004)                                      1.0  "
      ]
     },
     "execution_count": 8,
     "metadata": {},
     "output_type": "execute_result"
    }
   ],
   "source": [
    "from sklearn.metrics.pairwise import cosine_similarity\n",
    "\n",
    "# 아이템 유사도 행렬\n",
    "item_sim = cosine_similarity(ratings_matrix_T, ratings_matrix_T)\n",
    "\n",
    "# 데이터 프레임 형태로 저장\n",
    "item_sim_df = pd.DataFrame(item_sim, index=ratings_matrix_T.index, columns=ratings_matrix_T.index)\n",
    "\n",
    "# item_sim_df.shape: 9719 x 9719\n",
    "item_sim_df.iloc[:4,:4]"
   ]
  },
  {
   "cell_type": "markdown",
   "metadata": {},
   "source": [
    "- 각 영화별 유사도 행렬을 데이터 프레임으로 생성하였다."
   ]
  },
  {
   "cell_type": "code",
   "execution_count": 9,
   "metadata": {},
   "outputs": [
    {
     "data": {
      "text/plain": [
       "title\n",
       "Godfather: Part II, The (1974)               0.821773\n",
       "Goodfellas (1990)                            0.664841\n",
       "One Flew Over the Cuckoo's Nest (1975)       0.620536\n",
       "Star Wars: Episode IV - A New Hope (1977)    0.595317\n",
       "Fargo (1996)                                 0.588614\n",
       "Name: Godfather, The (1972), dtype: float64"
      ]
     },
     "execution_count": 9,
     "metadata": {},
     "output_type": "execute_result"
    }
   ],
   "source": [
    "# 대부와 유사도가 높은 상위 5개 영화\n",
    "item_sim_df[\"Godfather, The (1972)\"].sort_values(ascending=False)[1:6]"
   ]
  },
  {
   "cell_type": "markdown",
   "metadata": {},
   "source": [
    "- 영화 대부와는 대부2편이 가장 유사도가 높고 뒤이어 유사한 영화가 나타난다.\n",
    "\n",
    "\n",
    "- 스타워즈와 같이 장르가 완전 다른 영화도 유사도가 높게 나타났다.\n",
    "\n",
    "\n",
    "- [콘텐츠 기반](https://romg2.github.io/mlguide/01_%EB%A8%B8%EC%8B%A0%EB%9F%AC%EB%8B%9D-%EC%99%84%EB%B2%BD%EA%B0%80%EC%9D%B4%EB%93%9C-09.-%EC%B6%94%EC%B2%9C%EC%8B%9C%EC%8A%A4%ED%85%9C-%EC%BD%98%ED%85%90%EC%B8%A0-%EA%B8%B0%EB%B0%98/)에선 장르별 유사도를 사용하였으나 여기선 평점에 따른 유사도이기 때문이다.\n",
    "\n",
    "\n",
    "- 다시 한번 아이템의 속성이 아닌 평가가 비슷한 것을 추천함을 유의하자."
   ]
  },
  {
   "cell_type": "markdown",
   "metadata": {},
   "source": [
    "## 2.3 영화 추천"
   ]
  },
  {
   "cell_type": "markdown",
   "metadata": {},
   "source": [
    "앞서 생성한 영화 유사도 데이터로 사람들에게 영화 추천이 가능할 것이다.\n",
    "\n",
    "하지만 이는 개인의 취향은 고려하지 않고 영화의 유사도만을 가지고 추천하는 것이다.\n",
    "\n",
    "이제 최근접 이웃 협업 필터링으로 개인에게 최적화된 영화 추천을 구현해보자.\n",
    "\n",
    "아이템 기반의 협업 필터링에서 개인화된 예측 평점은 다음과 같은 식으로 구할 수 있다."
   ]
  },
  {
   "cell_type": "markdown",
   "metadata": {},
   "source": [
    "$$\\hat{R}_{u, i} = \\sum^N \\left(S_{i, N} \\cdot R_{u, N} \\right) \\big/ \\; \\sum^N \\vert S_{i, N} \\vert$$"
   ]
  },
  {
   "cell_type": "markdown",
   "metadata": {},
   "source": [
    "- $\\hat{R}_{u, i}$: 사용자 u, 아이템 i의 개인화된 예측 평점 값\n",
    "\n",
    "\n",
    "- $S_{i, N}$: 아이템 i와 가장 유사도가 높은 Top-N개 아이템의 유사도 벡터\n",
    "\n",
    "\n",
    "- $R_{u, N}$: 사용자 u의 아이템 i와 가장 유사도가 높은 Top-N개 아이템에 대한 실제 평점 벡터\n",
    "\n",
    "\n",
    "- $N$: 아이템의 최근접 이웃 범위 계수로 유사도가 가장 높은 Top-N개의 아이템을 추출하는데 사용"
   ]
  },
  {
   "cell_type": "markdown",
   "metadata": {},
   "source": [
    "**사용자별 예측 평점 함수**"
   ]
  },
  {
   "cell_type": "code",
   "execution_count": 10,
   "metadata": {},
   "outputs": [],
   "source": [
    "# 인수로 사용자-아이템 평점 행렬(NaN은 현재 0으로 대체), 아이템 유사도 행렬 사용\n",
    "def predict_rating(ratings_arr, item_sim_arr):\n",
    "    # ratings_arr: u x i, item_sim_arr: i x i\n",
    "    sum_sr = ratings_arr @ item_sim_arr\n",
    "    sum_s_abs = np.array( [ np.abs(item_sim_arr).sum(axis=1) ] )\n",
    "    \n",
    "    ratings_pred =  sum_sr / sum_s_abs\n",
    "    \n",
    "    return ratings_pred"
   ]
  },
  {
   "cell_type": "markdown",
   "metadata": {},
   "source": [
    "- 사용자별 예측 평점 함수를 생성하였다.\n",
    "\n",
    "\n",
    "- 우선 Top-N은 고려하지 않고 전체로 구현하였다."
   ]
  },
  {
   "cell_type": "code",
   "execution_count": 11,
   "metadata": {},
   "outputs": [
    {
     "data": {
      "text/html": [
       "<div>\n",
       "<style scoped>\n",
       "    .dataframe tbody tr th:only-of-type {\n",
       "        vertical-align: middle;\n",
       "    }\n",
       "\n",
       "    .dataframe tbody tr th {\n",
       "        vertical-align: top;\n",
       "    }\n",
       "\n",
       "    .dataframe thead th {\n",
       "        text-align: right;\n",
       "    }\n",
       "</style>\n",
       "<table border=\"1\" class=\"dataframe\">\n",
       "  <thead>\n",
       "    <tr style=\"text-align: right;\">\n",
       "      <th>title</th>\n",
       "      <th>'71 (2014)</th>\n",
       "      <th>'Hellboy': The Seeds of Creation (2004)</th>\n",
       "      <th>'Round Midnight (1986)</th>\n",
       "      <th>'Salem's Lot (2004)</th>\n",
       "      <th>'Til There Was You (1997)</th>\n",
       "      <th>'Tis the Season for Love (2015)</th>\n",
       "      <th>'burbs, The (1989)</th>\n",
       "      <th>'night Mother (1986)</th>\n",
       "      <th>(500) Days of Summer (2009)</th>\n",
       "      <th>*batteries not included (1987)</th>\n",
       "      <th>...</th>\n",
       "      <th>Zulu (2013)</th>\n",
       "      <th>[REC] (2007)</th>\n",
       "      <th>[REC]² (2009)</th>\n",
       "      <th>[REC]³ 3 Génesis (2012)</th>\n",
       "      <th>anohana: The Flower We Saw That Day - The Movie (2013)</th>\n",
       "      <th>eXistenZ (1999)</th>\n",
       "      <th>xXx (2002)</th>\n",
       "      <th>xXx: State of the Union (2005)</th>\n",
       "      <th>¡Three Amigos! (1986)</th>\n",
       "      <th>À nous la liberté (Freedom for Us) (1931)</th>\n",
       "    </tr>\n",
       "    <tr>\n",
       "      <th>userId</th>\n",
       "      <th></th>\n",
       "      <th></th>\n",
       "      <th></th>\n",
       "      <th></th>\n",
       "      <th></th>\n",
       "      <th></th>\n",
       "      <th></th>\n",
       "      <th></th>\n",
       "      <th></th>\n",
       "      <th></th>\n",
       "      <th></th>\n",
       "      <th></th>\n",
       "      <th></th>\n",
       "      <th></th>\n",
       "      <th></th>\n",
       "      <th></th>\n",
       "      <th></th>\n",
       "      <th></th>\n",
       "      <th></th>\n",
       "      <th></th>\n",
       "      <th></th>\n",
       "    </tr>\n",
       "  </thead>\n",
       "  <tbody>\n",
       "    <tr>\n",
       "      <th>1</th>\n",
       "      <td>0.070345</td>\n",
       "      <td>0.577855</td>\n",
       "      <td>0.321696</td>\n",
       "      <td>0.227055</td>\n",
       "      <td>0.206958</td>\n",
       "      <td>0.194615</td>\n",
       "      <td>0.249883</td>\n",
       "      <td>0.102542</td>\n",
       "      <td>0.157084</td>\n",
       "      <td>0.178197</td>\n",
       "      <td>...</td>\n",
       "      <td>0.113608</td>\n",
       "      <td>0.181738</td>\n",
       "      <td>0.133962</td>\n",
       "      <td>0.128574</td>\n",
       "      <td>0.006179</td>\n",
       "      <td>0.212070</td>\n",
       "      <td>0.192921</td>\n",
       "      <td>0.136024</td>\n",
       "      <td>0.292955</td>\n",
       "      <td>0.720347</td>\n",
       "    </tr>\n",
       "    <tr>\n",
       "      <th>2</th>\n",
       "      <td>0.018260</td>\n",
       "      <td>0.042744</td>\n",
       "      <td>0.018861</td>\n",
       "      <td>0.000000</td>\n",
       "      <td>0.000000</td>\n",
       "      <td>0.035995</td>\n",
       "      <td>0.013413</td>\n",
       "      <td>0.002314</td>\n",
       "      <td>0.032213</td>\n",
       "      <td>0.014863</td>\n",
       "      <td>...</td>\n",
       "      <td>0.015640</td>\n",
       "      <td>0.020855</td>\n",
       "      <td>0.020119</td>\n",
       "      <td>0.015745</td>\n",
       "      <td>0.049983</td>\n",
       "      <td>0.014876</td>\n",
       "      <td>0.021616</td>\n",
       "      <td>0.024528</td>\n",
       "      <td>0.017563</td>\n",
       "      <td>0.000000</td>\n",
       "    </tr>\n",
       "    <tr>\n",
       "      <th>3</th>\n",
       "      <td>0.011884</td>\n",
       "      <td>0.030279</td>\n",
       "      <td>0.064437</td>\n",
       "      <td>0.003762</td>\n",
       "      <td>0.003749</td>\n",
       "      <td>0.002722</td>\n",
       "      <td>0.014625</td>\n",
       "      <td>0.002085</td>\n",
       "      <td>0.005666</td>\n",
       "      <td>0.006272</td>\n",
       "      <td>...</td>\n",
       "      <td>0.006923</td>\n",
       "      <td>0.011665</td>\n",
       "      <td>0.011800</td>\n",
       "      <td>0.012225</td>\n",
       "      <td>0.000000</td>\n",
       "      <td>0.008194</td>\n",
       "      <td>0.007017</td>\n",
       "      <td>0.009229</td>\n",
       "      <td>0.010420</td>\n",
       "      <td>0.084501</td>\n",
       "    </tr>\n",
       "  </tbody>\n",
       "</table>\n",
       "<p>3 rows × 9719 columns</p>\n",
       "</div>"
      ],
      "text/plain": [
       "title   '71 (2014)  'Hellboy': The Seeds of Creation (2004)  \\\n",
       "userId                                                        \n",
       "1         0.070345                                 0.577855   \n",
       "2         0.018260                                 0.042744   \n",
       "3         0.011884                                 0.030279   \n",
       "\n",
       "title   'Round Midnight (1986)  'Salem's Lot (2004)  \\\n",
       "userId                                                \n",
       "1                     0.321696             0.227055   \n",
       "2                     0.018861             0.000000   \n",
       "3                     0.064437             0.003762   \n",
       "\n",
       "title   'Til There Was You (1997)  'Tis the Season for Love (2015)  \\\n",
       "userId                                                               \n",
       "1                        0.206958                         0.194615   \n",
       "2                        0.000000                         0.035995   \n",
       "3                        0.003749                         0.002722   \n",
       "\n",
       "title   'burbs, The (1989)  'night Mother (1986)  (500) Days of Summer (2009)  \\\n",
       "userId                                                                          \n",
       "1                 0.249883              0.102542                     0.157084   \n",
       "2                 0.013413              0.002314                     0.032213   \n",
       "3                 0.014625              0.002085                     0.005666   \n",
       "\n",
       "title   *batteries not included (1987)  ...  Zulu (2013)  [REC] (2007)  \\\n",
       "userId                                  ...                              \n",
       "1                             0.178197  ...     0.113608      0.181738   \n",
       "2                             0.014863  ...     0.015640      0.020855   \n",
       "3                             0.006272  ...     0.006923      0.011665   \n",
       "\n",
       "title   [REC]² (2009)  [REC]³ 3 Génesis (2012)  \\\n",
       "userId                                           \n",
       "1            0.133962                 0.128574   \n",
       "2            0.020119                 0.015745   \n",
       "3            0.011800                 0.012225   \n",
       "\n",
       "title   anohana: The Flower We Saw That Day - The Movie (2013)  \\\n",
       "userId                                                           \n",
       "1                                                0.006179        \n",
       "2                                                0.049983        \n",
       "3                                                0.000000        \n",
       "\n",
       "title   eXistenZ (1999)  xXx (2002)  xXx: State of the Union (2005)  \\\n",
       "userId                                                                \n",
       "1              0.212070    0.192921                        0.136024   \n",
       "2              0.014876    0.021616                        0.024528   \n",
       "3              0.008194    0.007017                        0.009229   \n",
       "\n",
       "title   ¡Three Amigos! (1986)  À nous la liberté (Freedom for Us) (1931)  \n",
       "userId                                                                    \n",
       "1                    0.292955                                   0.720347  \n",
       "2                    0.017563                                   0.000000  \n",
       "3                    0.010420                                   0.084501  \n",
       "\n",
       "[3 rows x 9719 columns]"
      ]
     },
     "execution_count": 11,
     "metadata": {},
     "output_type": "execute_result"
    }
   ],
   "source": [
    "# 사용자별 예측 평점\n",
    "ratings_pred = predict_rating(ratings_matrix.values , item_sim_df.values)\n",
    "\n",
    "ratings_pred_matrix = pd.DataFrame(data=ratings_pred, index= ratings_matrix.index,\n",
    "                                   columns = ratings_matrix.columns)\n",
    "ratings_pred_matrix.head(3)"
   ]
  },
  {
   "cell_type": "markdown",
   "metadata": {},
   "source": [
    "- 실제 평점이 없던 NaN값에 예측 평점이 부여되었다.\n",
    "\n",
    "\n",
    "- 예측 평점이 실제 평점에 비해 작을 수 있는데 이는 내적 결과를 유사도 벡터 합으로 나누어서이다."
   ]
  },
  {
   "cell_type": "markdown",
   "metadata": {},
   "source": [
    "**예측 성능 평가 함수**"
   ]
  },
  {
   "cell_type": "code",
   "execution_count": 12,
   "metadata": {},
   "outputs": [],
   "source": [
    "from sklearn.metrics import mean_squared_error\n",
    "\n",
    "# 성능 평가는 MSE를 사용\n",
    "def get_mse(pred, actual):\n",
    "    # 평점이 있는 실제 영화만 추출 (1차원 배열로 변환)\n",
    "    pred = pred[actual.nonzero()].flatten()\n",
    "    actual = actual[actual.nonzero()].flatten()\n",
    "    \n",
    "    return mean_squared_error(pred, actual)"
   ]
  },
  {
   "cell_type": "markdown",
   "metadata": {},
   "source": [
    "- 앞서 영화 평점이 없는 NaN값을 모두 0으로 변환하였다.\n",
    "\n",
    "\n",
    "- 성능 평가에선 실제 평점이 있는 영화로만 계산하기 위해 평점이 0인 경우 제외하였다.\n",
    "\n",
    "\n",
    "- 배열의 `nonzero()`를 이용해서 제외"
   ]
  },
  {
   "cell_type": "code",
   "execution_count": 13,
   "metadata": {},
   "outputs": [
    {
     "name": "stdout",
     "output_type": "stream",
     "text": [
      "아이템 기반 모든 인접 이웃 MSE: 9.8954\n"
     ]
    }
   ],
   "source": [
    "MSE1 = get_mse(ratings_pred, ratings_matrix.values)\n",
    "print(f'아이템 기반 모든 인접 이웃 MSE: {MSE1:.4f}')"
   ]
  },
  {
   "cell_type": "markdown",
   "metadata": {},
   "source": [
    "- MSE는 약 9.8594로 나타났다.\n",
    "\n",
    "\n",
    "- 현재는 영화의 유사도 벡터 전체를 사용하여 상대적으로 평점 예측이 떨어졌다.\n",
    "\n",
    "\n",
    "- Top-N을 사용하여 특정 영화와 가장 비슷한 유사도를 가지는 영화에 대해서만 유사도 벡터를 적용해보자."
   ]
  },
  {
   "cell_type": "code",
   "execution_count": 14,
   "metadata": {},
   "outputs": [],
   "source": [
    "def predict_rating_topsim(ratings_arr, item_sim_arr, N=20):\n",
    "    # 사용자-아이템 평점 행렬 크기만큼 0으로 채운 예측 행렬 초기화\n",
    "    pred = np.zeros(ratings_arr.shape)\n",
    "\n",
    "    # 사용자-아이템 평점 행렬의 열 크기(아이템 수)만큼 반복 (row: 사용자, col: 아이템)\n",
    "    for col in range(ratings_arr.shape[1]):\n",
    "                \n",
    "        # 특정 아이템의 유사도 행렬 오름차순 정렬시 index .. (1)\n",
    "        temp = np.argsort(item_sim_arr[:, col]) \n",
    "        \n",
    "        # (1)의 index를 역순으로 나열시 상위 N개의 index = 특정 아이템의 유사도 상위 N개 아이템 index .. (2)\n",
    "        top_n_items = [ temp[:-1-N:-1] ]\n",
    "        \n",
    "        # 개인화된 예측 평점을 계산: 반복당 특정 아이템의 예측 평점(사용자 전체)\n",
    "        for row in range(ratings_arr.shape[0]):\n",
    "            \n",
    "            # (2)의 유사도 행렬\n",
    "            item_sim_arr_topN = item_sim_arr[col, :][top_n_items].T # N x 1\n",
    "            \n",
    "            # (2)의 실제 평점 행렬\n",
    "            ratings_arr_topN = ratings_arr[row, :][top_n_items]     # 1 x N\n",
    "            \n",
    "            # 예측 평점\n",
    "            pred[row, col] = ratings_arr_topN @ item_sim_arr_topN\n",
    "            pred[row, col] /= np.sum( np.abs(item_sim_arr_topN) )\n",
    "            \n",
    "    return pred"
   ]
  },
  {
   "cell_type": "markdown",
   "metadata": {},
   "source": [
    "- 특정 아이템과 유사도가 높은 상위 N개 아이템과의 유사도 벡터를 구한다.\n",
    "\n",
    "\n",
    "- 사용자의 평점 중 앞서 구한 상위 N개 아이템에 대한 평점만 사용한다.\n",
    "\n",
    "\n",
    "- 두 행렬을 곱하여서 사용자 예측 평점을 계산한다.\n",
    "\n",
    "\n",
    "- 이 함수는 행, 열별로 반복을 수행하여서 데이터 크기가 크면 수행시간이 오래 걸린다."
   ]
  },
  {
   "cell_type": "code",
   "execution_count": 15,
   "metadata": {},
   "outputs": [
    {
     "name": "stdout",
     "output_type": "stream",
     "text": [
      "아이템 기반 인접 TOP-20 이웃 MSE: 3.6950\n"
     ]
    }
   ],
   "source": [
    "# 사용자별 예측 평점\n",
    "ratings_pred = predict_rating_topsim(ratings_matrix.values , item_sim_df.values, N=20)\n",
    "\n",
    "# 성능 평가\n",
    "MSE2 = get_mse(ratings_pred, ratings_matrix.values )\n",
    "print(f'아이템 기반 인접 TOP-20 이웃 MSE: {MSE2:.4f}')\n",
    "\n",
    "# 예측 평점 데이터 프레임\n",
    "ratings_pred_matrix = pd.DataFrame(data=ratings_pred, index= ratings_matrix.index,\n",
    "                                   columns = ratings_matrix.columns)"
   ]
  },
  {
   "cell_type": "markdown",
   "metadata": {},
   "source": [
    "- MSE가 기존 9.8594에서 3.6950으로 많이 향상되었다."
   ]
  },
  {
   "cell_type": "code",
   "execution_count": 16,
   "metadata": {},
   "outputs": [
    {
     "data": {
      "text/plain": [
       "title\n",
       "Adaptation (2002)                                                                 5.0\n",
       "Austin Powers in Goldmember (2002)                                                5.0\n",
       "Lord of the Rings: The Fellowship of the Ring, The (2001)                         5.0\n",
       "Lord of the Rings: The Two Towers, The (2002)                                     5.0\n",
       "Producers, The (1968)                                                             5.0\n",
       "Citizen Kane (1941)                                                               5.0\n",
       "Raiders of the Lost Ark (Indiana Jones and the Raiders of the Lost Ark) (1981)    5.0\n",
       "Back to the Future (1985)                                                         5.0\n",
       "Glengarry Glen Ross (1992)                                                        4.0\n",
       "Sunset Blvd. (a.k.a. Sunset Boulevard) (1950)                                     4.0\n",
       "Name: 9, dtype: float64"
      ]
     },
     "execution_count": 16,
     "metadata": {},
     "output_type": "execute_result"
    }
   ],
   "source": [
    "# userId 9가 높은 평점을 준 영화 (실제 평점)\n",
    "user_rating_id = ratings_matrix.loc[9, :]\n",
    "user_rating_id[ user_rating_id > 0].sort_values(ascending=False)[:10]"
   ]
  },
  {
   "cell_type": "markdown",
   "metadata": {},
   "source": [
    "- userId 9번이 높은 평점을 준 상위 10개의 영화로 반지의 제왕 등이 눈에 띈다.\n",
    "\n",
    "\n",
    "- 앞서 만든 예측 평점 함수를 이용해서 아직 평점을 주지 않은 영화를 추천해보자."
   ]
  },
  {
   "cell_type": "code",
   "execution_count": 17,
   "metadata": {},
   "outputs": [],
   "source": [
    "# 아직 보지 않은 영화 리스트 함수\n",
    "def get_unseen_movies(ratings_matrix, userId):\n",
    "    \n",
    "    # user_rating: userId의 아이템 평점 정보 (시리즈 형태: title을 index로 가진다.)\n",
    "    user_rating = ratings_matrix.loc[userId,:]\n",
    "    \n",
    "    # user_rating=0인 아직 안본 영화\n",
    "    unseen_movie_list = user_rating[ user_rating == 0].index.tolist()\n",
    "    \n",
    "    # 모든 영화명을 list 객체로 만듬. \n",
    "    movies_list = ratings_matrix.columns.tolist()\n",
    "    \n",
    "    # 한줄 for + if문으로 안본 영화 리스트 생성\n",
    "    unseen_list = [ movie for movie in movies_list if movie in unseen_movie_list]\n",
    "    \n",
    "    return unseen_list\n",
    "\n",
    "\n",
    "# 보지 않은 영화 중 예측 높은 순서로 시리즈 반환\n",
    "def recomm_movie_by_userid(pred_df, userId, unseen_list, top_n=10):    \n",
    "    recomm_movies = pred_df.loc[userId, unseen_list].sort_values(ascending=False)[:top_n]\n",
    "    \n",
    "    return recomm_movies"
   ]
  },
  {
   "cell_type": "code",
   "execution_count": 18,
   "metadata": {},
   "outputs": [
    {
     "data": {
      "text/html": [
       "<div>\n",
       "<style scoped>\n",
       "    .dataframe tbody tr th:only-of-type {\n",
       "        vertical-align: middle;\n",
       "    }\n",
       "\n",
       "    .dataframe tbody tr th {\n",
       "        vertical-align: top;\n",
       "    }\n",
       "\n",
       "    .dataframe thead th {\n",
       "        text-align: right;\n",
       "    }\n",
       "</style>\n",
       "<table border=\"1\" class=\"dataframe\">\n",
       "  <thead>\n",
       "    <tr style=\"text-align: right;\">\n",
       "      <th></th>\n",
       "      <th>pred_score</th>\n",
       "    </tr>\n",
       "    <tr>\n",
       "      <th>title</th>\n",
       "      <th></th>\n",
       "    </tr>\n",
       "  </thead>\n",
       "  <tbody>\n",
       "    <tr>\n",
       "      <th>Shrek (2001)</th>\n",
       "      <td>0.866202</td>\n",
       "    </tr>\n",
       "    <tr>\n",
       "      <th>Spider-Man (2002)</th>\n",
       "      <td>0.857854</td>\n",
       "    </tr>\n",
       "    <tr>\n",
       "      <th>Last Samurai, The (2003)</th>\n",
       "      <td>0.817473</td>\n",
       "    </tr>\n",
       "    <tr>\n",
       "      <th>Indiana Jones and the Temple of Doom (1984)</th>\n",
       "      <td>0.816626</td>\n",
       "    </tr>\n",
       "    <tr>\n",
       "      <th>Matrix Reloaded, The (2003)</th>\n",
       "      <td>0.800990</td>\n",
       "    </tr>\n",
       "    <tr>\n",
       "      <th>Harry Potter and the Sorcerer's Stone (a.k.a. Harry Potter and the Philosopher's Stone) (2001)</th>\n",
       "      <td>0.765159</td>\n",
       "    </tr>\n",
       "    <tr>\n",
       "      <th>Gladiator (2000)</th>\n",
       "      <td>0.740956</td>\n",
       "    </tr>\n",
       "    <tr>\n",
       "      <th>Matrix, The (1999)</th>\n",
       "      <td>0.732693</td>\n",
       "    </tr>\n",
       "    <tr>\n",
       "      <th>Pirates of the Caribbean: The Curse of the Black Pearl (2003)</th>\n",
       "      <td>0.689591</td>\n",
       "    </tr>\n",
       "    <tr>\n",
       "      <th>Lord of the Rings: The Return of the King, The (2003)</th>\n",
       "      <td>0.676711</td>\n",
       "    </tr>\n",
       "  </tbody>\n",
       "</table>\n",
       "</div>"
      ],
      "text/plain": [
       "                                                    pred_score\n",
       "title                                                         \n",
       "Shrek (2001)                                          0.866202\n",
       "Spider-Man (2002)                                     0.857854\n",
       "Last Samurai, The (2003)                              0.817473\n",
       "Indiana Jones and the Temple of Doom (1984)           0.816626\n",
       "Matrix Reloaded, The (2003)                           0.800990\n",
       "Harry Potter and the Sorcerer's Stone (a.k.a. H...    0.765159\n",
       "Gladiator (2000)                                      0.740956\n",
       "Matrix, The (1999)                                    0.732693\n",
       "Pirates of the Caribbean: The Curse of the Blac...    0.689591\n",
       "Lord of the Rings: The Return of the King, The ...    0.676711"
      ]
     },
     "execution_count": 18,
     "metadata": {},
     "output_type": "execute_result"
    }
   ],
   "source": [
    "# 아직 보지 않은 영화 리스트\n",
    "unseen_list = get_unseen_movies(ratings_matrix, 9)\n",
    "\n",
    "# 아이템 기반의 최근접 이웃 협업 필터링으로 영화 추천\n",
    "recomm_movies = recomm_movie_by_userid(ratings_pred_matrix, 9, unseen_list, top_n=10)\n",
    "\n",
    "# 데이터 프레임 생성\n",
    "recomm_movies = pd.DataFrame(data=recomm_movies.values, index=recomm_movies.index, columns=['pred_score'])\n",
    "recomm_movies"
   ]
  },
  {
   "cell_type": "markdown",
   "metadata": {},
   "source": [
    "- userId 9번이 아직 보지 않은 영화 중 예측 평점이 가장 높은 상위 10개 영화를 출력했다.\n",
    "\n",
    "\n",
    "- 슈렉, 스파이더맨 등 흥행성이 좋은 영화가 추천되었다."
   ]
  }
 ],
 "metadata": {
  "kernelspec": {
   "display_name": "Python 3",
   "language": "python",
   "name": "python3"
  },
  "language_info": {
   "codemirror_mode": {
    "name": "ipython",
    "version": 3
   },
   "file_extension": ".py",
   "mimetype": "text/x-python",
   "name": "python",
   "nbconvert_exporter": "python",
   "pygments_lexer": "ipython3",
   "version": "3.8.5"
  },
  "toc": {
   "base_numbering": 1,
   "nav_menu": {},
   "number_sections": false,
   "sideBar": true,
   "skip_h1_title": false,
   "title_cell": "Table of Contents",
   "title_sidebar": "Contents",
   "toc_cell": false,
   "toc_position": {},
   "toc_section_display": true,
   "toc_window_display": true
  }
 },
 "nbformat": 4,
 "nbformat_minor": 4
}
